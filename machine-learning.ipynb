{
 "cells": [
  {
   "cell_type": "markdown",
   "id": "b9e4373d-1f6b-4619-988b-b78bfd49c91d",
   "metadata": {},
   "source": [
    "# Xgboost model for predicting fraction of alteration\n",
    "\n",
    "This notebook explains how to make the xgboost model for alteration as the outcome variable.\n",
    "\n",
    "Alteration was recorded as >50-90% or >90% thus we use this as the outcome variable as a binary classifier.\n",
    "\n",
    "First we install libraries that may not be presently installed."
   ]
  },
  {
   "cell_type": "code",
   "execution_count": 1,
   "id": "b92100bc-9335-46f8-b9ca-16d42c089aa8",
   "metadata": {},
   "outputs": [
    {
     "name": "stdout",
     "output_type": "stream",
     "text": [
      "Requirement already satisfied: xgboost in /home/john/anaconda3/envs/borehole/lib/python3.8/site-packages (1.4.2)\n",
      "Requirement already satisfied: numpy in /home/john/anaconda3/envs/borehole/lib/python3.8/site-packages (from xgboost) (1.21.6)\n",
      "Requirement already satisfied: scipy in /home/john/anaconda3/envs/borehole/lib/python3.8/site-packages (from xgboost) (1.7.1)\n",
      "\u001b[33mWARNING: You are using pip version 22.0.4; however, version 23.1.2 is available.\n",
      "You should consider upgrading via the '/home/john/anaconda3/envs/borehole/bin/python3.8 -m pip install --upgrade pip' command.\u001b[0m\u001b[33m\n",
      "\u001b[0mRequirement already satisfied: sklearn in /home/john/anaconda3/envs/borehole/lib/python3.8/site-packages (0.0.post5)\n",
      "\u001b[33mWARNING: You are using pip version 22.0.4; however, version 23.1.2 is available.\n",
      "You should consider upgrading via the '/home/john/anaconda3/envs/borehole/bin/python3.8 -m pip install --upgrade pip' command.\u001b[0m\u001b[33m\n",
      "\u001b[0mRequirement already satisfied: shap in /home/john/anaconda3/envs/borehole/lib/python3.8/site-packages (0.41.0)\n",
      "Requirement already satisfied: cloudpickle in /home/john/anaconda3/envs/borehole/lib/python3.8/site-packages (from shap) (2.2.1)\n",
      "Requirement already satisfied: pandas in /home/john/anaconda3/envs/borehole/lib/python3.8/site-packages (from shap) (1.3.3)\n",
      "Requirement already satisfied: tqdm>4.25.0 in /home/john/anaconda3/envs/borehole/lib/python3.8/site-packages (from shap) (4.62.3)\n",
      "Requirement already satisfied: slicer==0.0.7 in /home/john/anaconda3/envs/borehole/lib/python3.8/site-packages (from shap) (0.0.7)\n",
      "Requirement already satisfied: numpy in /home/john/anaconda3/envs/borehole/lib/python3.8/site-packages (from shap) (1.21.6)\n",
      "Requirement already satisfied: scikit-learn in /home/john/anaconda3/envs/borehole/lib/python3.8/site-packages (from shap) (1.0)\n",
      "Requirement already satisfied: scipy in /home/john/anaconda3/envs/borehole/lib/python3.8/site-packages (from shap) (1.7.1)\n",
      "Requirement already satisfied: numba in /home/john/anaconda3/envs/borehole/lib/python3.8/site-packages (from shap) (0.55.1)\n",
      "Requirement already satisfied: packaging>20.9 in /home/john/anaconda3/envs/borehole/lib/python3.8/site-packages (from shap) (21.0)\n",
      "Requirement already satisfied: pyparsing>=2.0.2 in /home/john/anaconda3/envs/borehole/lib/python3.8/site-packages (from packaging>20.9->shap) (2.4.7)\n",
      "Requirement already satisfied: llvmlite<0.39,>=0.38.0rc1 in /home/john/anaconda3/envs/borehole/lib/python3.8/site-packages (from numba->shap) (0.38.0)\n",
      "Requirement already satisfied: setuptools in /home/john/anaconda3/envs/borehole/lib/python3.8/site-packages (from numba->shap) (58.0.4)\n",
      "Requirement already satisfied: python-dateutil>=2.7.3 in /home/john/anaconda3/envs/borehole/lib/python3.8/site-packages (from pandas->shap) (2.8.2)\n",
      "Requirement already satisfied: pytz>=2017.3 in /home/john/anaconda3/envs/borehole/lib/python3.8/site-packages (from pandas->shap) (2021.1)\n",
      "Requirement already satisfied: joblib>=0.11 in /home/john/anaconda3/envs/borehole/lib/python3.8/site-packages (from scikit-learn->shap) (1.0.1)\n",
      "Requirement already satisfied: threadpoolctl>=2.0.0 in /home/john/anaconda3/envs/borehole/lib/python3.8/site-packages (from scikit-learn->shap) (3.0.0)\n",
      "Requirement already satisfied: six>=1.5 in /home/john/anaconda3/envs/borehole/lib/python3.8/site-packages (from python-dateutil>=2.7.3->pandas->shap) (1.16.0)\n",
      "\u001b[33mWARNING: You are using pip version 22.0.4; however, version 23.1.2 is available.\n",
      "You should consider upgrading via the '/home/john/anaconda3/envs/borehole/bin/python3.8 -m pip install --upgrade pip' command.\u001b[0m\u001b[33m\n",
      "\u001b[0m"
     ]
    }
   ],
   "source": [
    "!pip install xgboost\n",
    "!pip install sklearn\n",
    "!pip install shap"
   ]
  },
  {
   "cell_type": "markdown",
   "id": "be36961e-e5ee-46c1-b448-95d78e17a330",
   "metadata": {},
   "source": [
    "Next we import libraries.\n",
    "\n",
    "We set the random state as 42. This is because there are several stochastic pieces of the puzzle, such as how we separate the data for train and testing, etc. This prevents from this randomness creating different models. However, this should be tested at some point with different `random_states`."
   ]
  },
  {
   "cell_type": "code",
   "execution_count": 2,
   "id": "8c095390-8328-4945-b2f9-2fdd3ce301ca",
   "metadata": {},
   "outputs": [],
   "source": [
    "import numpy as np\n",
    "import pandas as pd\n",
    "import xgboost as xgb\n",
    "from sklearn.model_selection import train_test_split, cross_val_score, StratifiedKFold\n",
    "from sklearn.metrics import roc_curve, roc_auc_score\n",
    "import matplotlib.pyplot as plt\n",
    "import shap\n",
    "\n",
    "random_state = 42"
   ]
  },
  {
   "cell_type": "code",
   "execution_count": 3,
   "id": "b7def00a-d608-4128-be79-ddbbda00938e",
   "metadata": {},
   "outputs": [],
   "source": [
    "data = pd.read_excel('Dataset_BA1B_Final.xlsx')"
   ]
  },
  {
   "cell_type": "code",
   "execution_count": 4,
   "id": "180d08d2-0342-4783-90f8-59b7ab4f60e7",
   "metadata": {},
   "outputs": [
    {
     "data": {
      "text/html": [
       "<div>\n",
       "<style scoped>\n",
       "    .dataframe tbody tr th:only-of-type {\n",
       "        vertical-align: middle;\n",
       "    }\n",
       "\n",
       "    .dataframe tbody tr th {\n",
       "        vertical-align: top;\n",
       "    }\n",
       "\n",
       "    .dataframe thead th {\n",
       "        text-align: right;\n",
       "    }\n",
       "</style>\n",
       "<table border=\"1\" class=\"dataframe\">\n",
       "  <thead>\n",
       "    <tr style=\"text-align: right;\">\n",
       "      <th></th>\n",
       "      <th>CORE</th>\n",
       "      <th>SECTION</th>\n",
       "      <th>SECTION_UNIT</th>\n",
       "      <th>% of fractures</th>\n",
       "      <th>IMAGES</th>\n",
       "      <th>SEGMENTATION</th>\n",
       "      <th>TOP_DEPTH</th>\n",
       "      <th>UNIT_DESC4</th>\n",
       "      <th>VEIN_INTENSITY</th>\n",
       "      <th>ALTERATION</th>\n",
       "      <th>...</th>\n",
       "      <th>Branching</th>\n",
       "      <th>Blue patches</th>\n",
       "      <th>Magmatic intrusions</th>\n",
       "      <th>Hydrothermal</th>\n",
       "      <th>Rodingite</th>\n",
       "      <th>Magmatic veins</th>\n",
       "      <th>Offsets</th>\n",
       "      <th>Shearing</th>\n",
       "      <th>Dark green</th>\n",
       "      <th>Dunitic zone</th>\n",
       "    </tr>\n",
       "  </thead>\n",
       "  <tbody>\n",
       "    <tr>\n",
       "      <th>0</th>\n",
       "      <td>1.0</td>\n",
       "      <td>1.0</td>\n",
       "      <td>1</td>\n",
       "      <td>0.689654</td>\n",
       "      <td>D:/SerpRateAI/Camera/CS_5057_5_B_1_1_1.jpg</td>\n",
       "      <td>D:/SerpRateAI/Results/CS_5057_5_B_1_1_1/CS_505...</td>\n",
       "      <td>0.00</td>\n",
       "      <td>NN</td>\n",
       "      <td>4.0</td>\n",
       "      <td>&gt;90%</td>\n",
       "      <td>...</td>\n",
       "      <td>0</td>\n",
       "      <td>0</td>\n",
       "      <td>0</td>\n",
       "      <td>0</td>\n",
       "      <td>0</td>\n",
       "      <td>0</td>\n",
       "      <td>0</td>\n",
       "      <td>0</td>\n",
       "      <td>0</td>\n",
       "      <td>0</td>\n",
       "    </tr>\n",
       "    <tr>\n",
       "      <th>1</th>\n",
       "      <td>NaN</td>\n",
       "      <td>NaN</td>\n",
       "      <td>2</td>\n",
       "      <td>0.689654</td>\n",
       "      <td>D:/SerpRateAI/Camera/CS_5057_5_B_1_1_1.jpg</td>\n",
       "      <td>D:/SerpRateAI/Results/CS_5057_5_B_1_1_1/CS_505...</td>\n",
       "      <td>0.50</td>\n",
       "      <td>NN</td>\n",
       "      <td>3.0</td>\n",
       "      <td>&gt;90%</td>\n",
       "      <td>...</td>\n",
       "      <td>0</td>\n",
       "      <td>0</td>\n",
       "      <td>0</td>\n",
       "      <td>0</td>\n",
       "      <td>0</td>\n",
       "      <td>0</td>\n",
       "      <td>0</td>\n",
       "      <td>0</td>\n",
       "      <td>0</td>\n",
       "      <td>0</td>\n",
       "    </tr>\n",
       "    <tr>\n",
       "      <th>2</th>\n",
       "      <td>NaN</td>\n",
       "      <td>2.0</td>\n",
       "      <td>1</td>\n",
       "      <td>0.659654</td>\n",
       "      <td>D:/SerpRateAI/Camera/CS_5057_5_B_1_2_1.jpg</td>\n",
       "      <td>D:/SerpRateAI/Results/CS_5057_5_B_1_2_1/CS_505...</td>\n",
       "      <td>0.91</td>\n",
       "      <td>NN</td>\n",
       "      <td>4.0</td>\n",
       "      <td>&gt;90%</td>\n",
       "      <td>...</td>\n",
       "      <td>0</td>\n",
       "      <td>0</td>\n",
       "      <td>0</td>\n",
       "      <td>0</td>\n",
       "      <td>0</td>\n",
       "      <td>0</td>\n",
       "      <td>0</td>\n",
       "      <td>0</td>\n",
       "      <td>0</td>\n",
       "      <td>0</td>\n",
       "    </tr>\n",
       "    <tr>\n",
       "      <th>3</th>\n",
       "      <td>NaN</td>\n",
       "      <td>NaN</td>\n",
       "      <td>2</td>\n",
       "      <td>0.659654</td>\n",
       "      <td>D:/SerpRateAI/Camera/CS_5057_5_B_1_2_1.jpg</td>\n",
       "      <td>D:/SerpRateAI/Results/CS_5057_5_B_1_2_1/CS_505...</td>\n",
       "      <td>1.19</td>\n",
       "      <td>NN</td>\n",
       "      <td>4.0</td>\n",
       "      <td>&gt;90%</td>\n",
       "      <td>...</td>\n",
       "      <td>0</td>\n",
       "      <td>0</td>\n",
       "      <td>0</td>\n",
       "      <td>0</td>\n",
       "      <td>0</td>\n",
       "      <td>0</td>\n",
       "      <td>0</td>\n",
       "      <td>0</td>\n",
       "      <td>0</td>\n",
       "      <td>0</td>\n",
       "    </tr>\n",
       "    <tr>\n",
       "      <th>4</th>\n",
       "      <td>NaN</td>\n",
       "      <td>NaN</td>\n",
       "      <td>3</td>\n",
       "      <td>0.659654</td>\n",
       "      <td>D:/SerpRateAI/Camera/CS_5057_5_B_1_2_1.jpg</td>\n",
       "      <td>D:/SerpRateAI/Results/CS_5057_5_B_1_2_1/CS_505...</td>\n",
       "      <td>1.60</td>\n",
       "      <td>NN</td>\n",
       "      <td>4.0</td>\n",
       "      <td>&gt;90%</td>\n",
       "      <td>...</td>\n",
       "      <td>0</td>\n",
       "      <td>0</td>\n",
       "      <td>0</td>\n",
       "      <td>0</td>\n",
       "      <td>0</td>\n",
       "      <td>0</td>\n",
       "      <td>0</td>\n",
       "      <td>0</td>\n",
       "      <td>0</td>\n",
       "      <td>0</td>\n",
       "    </tr>\n",
       "  </tbody>\n",
       "</table>\n",
       "<p>5 rows × 101 columns</p>\n",
       "</div>"
      ],
      "text/plain": [
       "   CORE  SECTION  SECTION_UNIT  % of fractures  \\\n",
       "0   1.0      1.0             1        0.689654   \n",
       "1   NaN      NaN             2        0.689654   \n",
       "2   NaN      2.0             1        0.659654   \n",
       "3   NaN      NaN             2        0.659654   \n",
       "4   NaN      NaN             3        0.659654   \n",
       "\n",
       "                                       IMAGES  \\\n",
       "0  D:/SerpRateAI/Camera/CS_5057_5_B_1_1_1.jpg   \n",
       "1  D:/SerpRateAI/Camera/CS_5057_5_B_1_1_1.jpg   \n",
       "2  D:/SerpRateAI/Camera/CS_5057_5_B_1_2_1.jpg   \n",
       "3  D:/SerpRateAI/Camera/CS_5057_5_B_1_2_1.jpg   \n",
       "4  D:/SerpRateAI/Camera/CS_5057_5_B_1_2_1.jpg   \n",
       "\n",
       "                                        SEGMENTATION  TOP_DEPTH UNIT_DESC4  \\\n",
       "0  D:/SerpRateAI/Results/CS_5057_5_B_1_1_1/CS_505...       0.00         NN   \n",
       "1  D:/SerpRateAI/Results/CS_5057_5_B_1_1_1/CS_505...       0.50         NN   \n",
       "2  D:/SerpRateAI/Results/CS_5057_5_B_1_2_1/CS_505...       0.91         NN   \n",
       "3  D:/SerpRateAI/Results/CS_5057_5_B_1_2_1/CS_505...       1.19         NN   \n",
       "4  D:/SerpRateAI/Results/CS_5057_5_B_1_2_1/CS_505...       1.60         NN   \n",
       "\n",
       "   VEIN_INTENSITY ALTERATION  ... Branching Blue patches Magmatic intrusions  \\\n",
       "0             4.0       >90%  ...         0            0                   0   \n",
       "1             3.0       >90%  ...         0            0                   0   \n",
       "2             4.0       >90%  ...         0            0                   0   \n",
       "3             4.0       >90%  ...         0            0                   0   \n",
       "4             4.0       >90%  ...         0            0                   0   \n",
       "\n",
       "  Hydrothermal Rodingite Magmatic veins  Offsets  Shearing  Dark green  \\\n",
       "0            0         0              0        0         0           0   \n",
       "1            0         0              0        0         0           0   \n",
       "2            0         0              0        0         0           0   \n",
       "3            0         0              0        0         0           0   \n",
       "4            0         0              0        0         0           0   \n",
       "\n",
       "   Dunitic zone  \n",
       "0             0  \n",
       "1             0  \n",
       "2             0  \n",
       "3             0  \n",
       "4             0  \n",
       "\n",
       "[5 rows x 101 columns]"
      ]
     },
     "execution_count": 4,
     "metadata": {},
     "output_type": "execute_result"
    }
   ],
   "source": [
    "data.head()"
   ]
  },
  {
   "cell_type": "code",
   "execution_count": 5,
   "id": "deefc9f9-23b4-48e8-a051-458442adb700",
   "metadata": {},
   "outputs": [
    {
     "data": {
      "text/plain": [
       "Index(['CORE', 'SECTION', 'SECTION_UNIT', '% of fractures', 'IMAGES',\n",
       "       'SEGMENTATION', 'TOP_DEPTH', 'UNIT_DESC4', 'VEIN_INTENSITY',\n",
       "       'ALTERATION',\n",
       "       ...\n",
       "       'Branching', 'Blue patches', 'Magmatic intrusions', 'Hydrothermal',\n",
       "       'Rodingite', 'Magmatic veins', 'Offsets', 'Shearing', 'Dark green',\n",
       "       'Dunitic zone'],\n",
       "      dtype='object', length=101)"
      ]
     },
     "execution_count": 5,
     "metadata": {},
     "output_type": "execute_result"
    }
   ],
   "source": [
    "data.columns"
   ]
  },
  {
   "cell_type": "markdown",
   "id": "9373cde2-b82c-4239-9bfc-b1ec94c2785b",
   "metadata": {},
   "source": [
    "# Picking what columns to use\n",
    "\n",
    "Here I have created a list of columns and commented out `TOP_DEPTH` and `Magnetite`.\n",
    "\n",
    "There are different kinds of columns and we should figure out which columns are worth keeping and which can stay.\n",
    "\n",
    "I excluded all of the other columns that came from the original data set to see if only the columns that we generated are meaningful."
   ]
  },
  {
   "cell_type": "code",
   "execution_count": 6,
   "id": "4a3d8ca1-ee16-4799-8559-f9f6c2565fda",
   "metadata": {},
   "outputs": [],
   "source": [
    "columns_to_keep = ['% of fractures'\n",
    "                   # ,'TOP_DEPTH'\n",
    "                   ,'ALTERATION',\n",
    "                   ##### these are the hamed codes columns\n",
    "'PnS2_sum', 'PnL_sum', 'PnP3V_sum', 'PnP3H_sum', 'PnP4_sum', 'PnP6V_sum', 'FnS2_sum', 'FnL_sum', 'FnP3V_sum', 'FnP3H_sum', 'FnP4_sum', 'FnP6V_sum',\n",
    "                   ##### these are the keywords created by chatgpt\n",
    "                   'Veins', 'Serpentine vein', 'Oxidation', 'Carbonate veins', 'Network', 'Dyke', 'Black serpentinization', 'White veins', 'Open cracks', 'Dunite', 'Gabbro', 'Microgabbro','Green veins','Open crack','Irregular','Waxy green','Alteration','Subvertical','Fine grained','Subhorizontal','Lineation'\n",
    "                   # ,'Magnetite'\n",
    "                   ,'Thickness','Harzburgite','Altered gabbro','Offset','Altered','Crack','Pxenites','Microbio sample','Bulk serp','Bulk','Coalescence','Waxy','Wavy','Slickensides','Alteration halo','Plagioclase','Fracture','Sheared','Pyroxenite','Striations','Branching','Blue patches','Magmatic intrusions','Hydrothermal','Rodingite','Magmatic veins','Offsets','Shearing','Dark green','Dunitic zone',]"
   ]
  },
  {
   "cell_type": "code",
   "execution_count": 7,
   "id": "e3bd1a3f-1ef0-4d9a-9107-2d1f7089f6f6",
   "metadata": {},
   "outputs": [],
   "source": [
    "data = data[columns_to_keep]"
   ]
  },
  {
   "cell_type": "code",
   "execution_count": 8,
   "id": "c99c1955-0b53-4475-a4cf-928c99afd290",
   "metadata": {},
   "outputs": [
    {
     "data": {
      "text/plain": [
       "<matplotlib.collections.QuadMesh at 0x7f32df4c8550>"
      ]
     },
     "execution_count": 8,
     "metadata": {},
     "output_type": "execute_result"
    },
    {
     "data": {
      "image/png": "[encoded data removed]",
      "text/plain": [
       "<Figure size 432x288 with 1 Axes>"
      ]
     },
     "metadata": {
      "needs_background": "light"
     },
     "output_type": "display_data"
    }
   ],
   "source": [
    "plt.pcolormesh(data.corr().values, cmap='nipy_spectral')"
   ]
  },
  {
   "cell_type": "code",
   "execution_count": 9,
   "id": "309f0e1c-540a-45e5-92cd-cea3f082ae56",
   "metadata": {},
   "outputs": [],
   "source": [
    "# in some cases we are missing images therefore there is no data available for those sections\n",
    "data.dropna(inplace=True)"
   ]
  },
  {
   "cell_type": "code",
   "execution_count": 10,
   "id": "d98dcd7e-e032-4b32-8121-326ee39d3991",
   "metadata": {},
   "outputs": [],
   "source": [
    "# Separate features and target variable\n",
    "X = data.drop('ALTERATION', axis=1)\n",
    "y = data['ALTERATION']"
   ]
  },
  {
   "cell_type": "code",
   "execution_count": 11,
   "id": "7371f8f3-0cd9-48e3-bdf4-316598023804",
   "metadata": {},
   "outputs": [
    {
     "data": {
      "text/plain": [
       "array([1, 0])"
      ]
     },
     "execution_count": 11,
     "metadata": {},
     "output_type": "execute_result"
    }
   ],
   "source": [
    "# replace the alteration values with 1 or 0 to make it easier for codes to run\n",
    "y.replace('>90%', 1, inplace=True)\n",
    "y.replace('50%-90%', 0, inplace=True)\n",
    "y.unique()"
   ]
  },
  {
   "cell_type": "code",
   "execution_count": 25,
   "id": "63627495-e455-4782-9b8c-5c668896a60c",
   "metadata": {},
   "outputs": [
    {
     "data": {
      "text/plain": [
       "0.4058219178082192"
      ]
     },
     "execution_count": 25,
     "metadata": {},
     "output_type": "execute_result"
    }
   ],
   "source": [
    "data['ALTERATION'].sum() / data.shape[0]"
   ]
  },
  {
   "cell_type": "code",
   "execution_count": 12,
   "id": "fea713b0-7138-4f19-b482-aefaaecbc6fb",
   "metadata": {},
   "outputs": [],
   "source": [
    "# Split the data into train and test sets\n",
    "X_train, X_test, y_train, y_test = train_test_split(X, y, test_size=0.2, random_state=random_state)\n"
   ]
  },
  {
   "cell_type": "markdown",
   "id": "404c1d3f-65ca-4ba4-9019-634d6246a25d",
   "metadata": {},
   "source": [
    "# Xgboost\n",
    "\n",
    "*The below text was created with the help of chatgpt*\n",
    "\n",
    "XGBoost (eXtreme Gradient Boosting) is a popular machine learning algorithm that belongs to the gradient boosting framework. It is an ensemble method that combines multiple weak prediction models (typically decision trees) to create a powerful predictive model.\n",
    "\n",
    "Here's a step-by-step explanation of how an XGBoost model works:\n",
    "\n",
    "**Initialization:** The XGBoost algorithm starts with an initial prediction called the \"base model.\" This prediction can be a simple constant value or a simple model like the mean of the target variable.\n",
    "\n",
    "**Loss Calculation:** The algorithm calculates the difference between the base model's predictions and the actual target values. This difference is known as the \"residuals\" or \"errors.\" The choice of loss function depends on the problem type (e.g., regression, binary classification, multiclass classification) and determines how the residuals are penalized.\n",
    "\n",
    "**Building Decision Trees (Weak Learners):** XGBoost builds decision trees as weak learners to learn from the residuals. Each decision tree is constructed in a greedy manner, recursively splitting the data based on features that minimize the loss function.\n",
    "\n",
    "**Tree Construction:** The construction of each decision tree involves the following steps:\n",
    "\n",
    "1. **Split Finding:** XGBoost considers different split points for each feature and selects the one that results in the greatest reduction of the loss function.\n",
    "2. **Pruning:** To control overfitting, XGBoost incorporates regularization techniques such as maximum depth, minimum child weight, and gamma (minimum loss reduction required for a node to split).\n",
    "\n",
    "**Updating Predictions:** After constructing the decision tree, XGBoost calculates the predicted values using the tree. The predictions are added to the previous base model's predictions, creating an updated set of predictions.\n",
    "\n",
    "**Loss Update:** XGBoost calculates the loss between the updated predictions and the actual target values. This loss is used to determine the performance improvement achieved by the current decision tree.\n",
    "\n",
    "**Ensemble Building:** The newly constructed decision tree is added to the ensemble of weak learners. The predictions from all the trees are combined, and the algorithm repeats steps 2-7 for a specified number of iterations (boosting rounds).\n",
    "\n",
    "**Final Prediction:** After all the boosting rounds, the final prediction is obtained by summing the predictions from all the weak learners. For regression problems, this is a straightforward sum. For classification problems, a logistic transformation or a softmax function is applied to obtain class probabilities.\n",
    "\n",
    "**Regularization:** XGBoost applies regularization techniques such as learning rate (shrinkage), subsampling of the training instances, and column subsampling (feature importance estimation) to prevent overfitting and improve generalization.\n",
    "\n",
    "**Model Evaluation:** XGBoost evaluates the model's performance using evaluation metrics specific to the problem type, such as mean squared error (MSE) for regression or area under the ROC curve (AUC-ROC) for binary classification.\n",
    "\n",
    "The key strengths of XGBoost include its ability to handle mixed data types, handle missing values, handle large datasets with parallel processing, and offer flexibility in customization through various hyperparameters.\n",
    "\n",
    "Overall, XGBoost's iterative boosting process, tree construction, and ensemble learning contribute to its ability to create powerful predictive models with high accuracy and strong generalization capabilities."
   ]
  },
  {
   "cell_type": "code",
   "execution_count": 13,
   "id": "9f86e296-9419-4394-b164-e1fd689c3de2",
   "metadata": {},
   "outputs": [],
   "source": [
    "# Create an XGBoost DMatrix for training and testing\n",
    "dtrain = xgb.DMatrix(X_train, label=y_train, feature_names=X_train.columns, enable_categorical=True)\n",
    "dtest = xgb.DMatrix(X_test, label=y_test, feature_names=X_test.columns, enable_categorical=True)\n"
   ]
  },
  {
   "cell_type": "code",
   "execution_count": 14,
   "id": "2563d2f4-29ab-47db-8960-a3b1229d0276",
   "metadata": {},
   "outputs": [],
   "source": [
    "# Set XGBoost parameters\n",
    "params = {\n",
    "    'objective': 'binary:logistic',\n",
    "    'eval_metric': 'auc',\n",
    "    'seed': random_state\n",
    "}\n"
   ]
  },
  {
   "cell_type": "code",
   "execution_count": 15,
   "id": "69011f68-892c-4583-84d4-abf0483dbb92",
   "metadata": {},
   "outputs": [],
   "source": [
    "# Train the XGBoost classifier with 5-fold cross-validation\n",
    "cv_results = xgb.cv(params, dtrain, num_boost_round=10000, nfold=5, stratified=True, early_stopping_rounds=10, seed=random_state)\n"
   ]
  },
  {
   "cell_type": "code",
   "execution_count": 16,
   "id": "17cedad6-2443-4ee9-94d4-808f35801c89",
   "metadata": {},
   "outputs": [],
   "source": [
    "# Determine the optimal number of boosting rounds\n",
    "best_num_boost_rounds = cv_results.shape[0]\n",
    "\n",
    "# Retrain the model with the optimal number of boosting rounds\n",
    "model = xgb.train(params, dtrain, num_boost_round=best_num_boost_rounds)"
   ]
  },
  {
   "cell_type": "code",
   "execution_count": 17,
   "id": "65f615f8-c80f-4c8b-b623-98f470baa9db",
   "metadata": {},
   "outputs": [
    {
     "name": "stdout",
     "output_type": "stream",
     "text": [
      "ROC AUC: 0.9552821128451381\n"
     ]
    }
   ],
   "source": [
    "# Make predictions on the test set\n",
    "y_pred = model.predict(dtest)\n",
    "\n",
    "# Calculate the ROC AUC score\n",
    "roc_auc = roc_auc_score(y_test, y_pred)\n",
    "print(f\"ROC AUC: {roc_auc}\")"
   ]
  },
  {
   "cell_type": "code",
   "execution_count": 18,
   "id": "1f4a5042-528a-4c58-b1da-12ea3f7b46a4",
   "metadata": {},
   "outputs": [
    {
     "data": {
      "image/png": "[encoded data removed]",
      "text/plain": [
       "<Figure size 432x288 with 1 Axes>"
      ]
     },
     "metadata": {
      "needs_background": "light"
     },
     "output_type": "display_data"
    }
   ],
   "source": [
    "# Compute false positive rate and true positive rate for ROC curve\n",
    "fpr, tpr, _ = roc_curve(y_test, y_pred)\n",
    "\n",
    "# Plot ROC curve\n",
    "plt.plot(fpr, tpr)\n",
    "plt.plot([0, 1], [0, 1], linestyle='--')\n",
    "plt.xlabel('False Positive Rate')\n",
    "plt.ylabel('True Positive Rate')\n",
    "plt.title('ROC Curve')\n",
    "plt.show()"
   ]
  },
  {
   "cell_type": "code",
   "execution_count": 19,
   "id": "5f08369e-692c-4a59-b419-7bbc28b6eea0",
   "metadata": {},
   "outputs": [],
   "source": [
    "# # Plot feature importances\n",
    "# xgb.plot_importance(model)\n",
    "# plt.show()"
   ]
  },
  {
   "cell_type": "code",
   "execution_count": 20,
   "id": "bd25164a-f381-46a3-bb53-e6d39eaceb9d",
   "metadata": {},
   "outputs": [
    {
     "data": {
      "image/png": "[encoded data removed]",
      "text/plain": [
       "<Figure size 576x684 with 1 Axes>"
      ]
     },
     "metadata": {
      "needs_background": "light"
     },
     "output_type": "display_data"
    },
    {
     "data": {
      "image/png": "[encoded data removed]",
      "text/plain": [
       "<Figure size 432x360 with 1 Axes>"
      ]
     },
     "metadata": {
      "needs_background": "light"
     },
     "output_type": "display_data"
    }
   ],
   "source": [
    "# Calculate SHAP values\n",
    "explainer = shap.Explainer(model)\n",
    "shap_values = explainer.shap_values(X_test)\n",
    "\n",
    "# Plot SHAP summary plot\n",
    "shap.summary_plot(shap_values, X_test, plot_type='bar')\n",
    "plt.show()\n",
    "\n",
    "# Plot SHAP dependence plot\n",
    "feature_index = 0  # Index of the feature to plot\n",
    "shap.dependence_plot(feature_index, shap_values, X_test, interaction_index=None)\n",
    "plt.show()"
   ]
  },
  {
   "cell_type": "code",
   "execution_count": 21,
   "id": "22cae7f3-a906-41de-a6a5-91dd2e226fd0",
   "metadata": {},
   "outputs": [
    {
     "data": {
      "image/png": "[encoded data removed]",
      "text/plain": [
       "<Figure size 576x684 with 2 Axes>"
      ]
     },
     "metadata": {
      "needs_background": "light"
     },
     "output_type": "display_data"
    }
   ],
   "source": [
    "# Create a beeswarm plot for SHAP values\n",
    "shap.summary_plot(shap_values, X_test, plot_type=\"violin\", show=False)\n",
    "plt.show()"
   ]
  },
  {
   "cell_type": "markdown",
   "id": "1557428a-e851-48f0-84c4-d15c85e56431",
   "metadata": {},
   "source": [
    "# Next steps\n",
    "\n",
    "1. removing all the features until the model no longer works"
   ]
  },
  {
   "cell_type": "code",
   "execution_count": 22,
   "id": "11de8e7b-c1d1-442a-8a99-2d483c446113",
   "metadata": {},
   "outputs": [
    {
     "data": {
      "text/html": [
       "<div>\n",
       "<style scoped>\n",
       "    .dataframe tbody tr th:only-of-type {\n",
       "        vertical-align: middle;\n",
       "    }\n",
       "\n",
       "    .dataframe tbody tr th {\n",
       "        vertical-align: top;\n",
       "    }\n",
       "\n",
       "    .dataframe thead th {\n",
       "        text-align: right;\n",
       "    }\n",
       "</style>\n",
       "<table border=\"1\" class=\"dataframe\">\n",
       "  <thead>\n",
       "    <tr style=\"text-align: right;\">\n",
       "      <th></th>\n",
       "      <th>% of fractures</th>\n",
       "      <th>ALTERATION</th>\n",
       "      <th>PnS2_sum</th>\n",
       "      <th>PnL_sum</th>\n",
       "      <th>PnP3V_sum</th>\n",
       "      <th>PnP3H_sum</th>\n",
       "      <th>PnP4_sum</th>\n",
       "      <th>PnP6V_sum</th>\n",
       "      <th>FnS2_sum</th>\n",
       "      <th>FnL_sum</th>\n",
       "      <th>...</th>\n",
       "      <th>Branching</th>\n",
       "      <th>Blue patches</th>\n",
       "      <th>Magmatic intrusions</th>\n",
       "      <th>Hydrothermal</th>\n",
       "      <th>Rodingite</th>\n",
       "      <th>Magmatic veins</th>\n",
       "      <th>Offsets</th>\n",
       "      <th>Shearing</th>\n",
       "      <th>Dark green</th>\n",
       "      <th>Dunitic zone</th>\n",
       "    </tr>\n",
       "  </thead>\n",
       "  <tbody>\n",
       "    <tr>\n",
       "      <th>2</th>\n",
       "      <td>0.659654</td>\n",
       "      <td>1</td>\n",
       "      <td>0.012611</td>\n",
       "      <td>0.007953</td>\n",
       "      <td>0.003510</td>\n",
       "      <td>0.003379</td>\n",
       "      <td>0.004335</td>\n",
       "      <td>0.003224</td>\n",
       "      <td>1.564736</td>\n",
       "      <td>3.047126</td>\n",
       "      <td>...</td>\n",
       "      <td>0</td>\n",
       "      <td>0</td>\n",
       "      <td>0</td>\n",
       "      <td>0</td>\n",
       "      <td>0</td>\n",
       "      <td>0</td>\n",
       "      <td>0</td>\n",
       "      <td>0</td>\n",
       "      <td>0</td>\n",
       "      <td>0</td>\n",
       "    </tr>\n",
       "    <tr>\n",
       "      <th>3</th>\n",
       "      <td>0.659654</td>\n",
       "      <td>1</td>\n",
       "      <td>0.012611</td>\n",
       "      <td>0.007953</td>\n",
       "      <td>0.003510</td>\n",
       "      <td>0.003379</td>\n",
       "      <td>0.004335</td>\n",
       "      <td>0.003224</td>\n",
       "      <td>1.564736</td>\n",
       "      <td>3.047126</td>\n",
       "      <td>...</td>\n",
       "      <td>0</td>\n",
       "      <td>0</td>\n",
       "      <td>0</td>\n",
       "      <td>0</td>\n",
       "      <td>0</td>\n",
       "      <td>0</td>\n",
       "      <td>0</td>\n",
       "      <td>0</td>\n",
       "      <td>0</td>\n",
       "      <td>0</td>\n",
       "    </tr>\n",
       "    <tr>\n",
       "      <th>4</th>\n",
       "      <td>0.659654</td>\n",
       "      <td>1</td>\n",
       "      <td>0.012611</td>\n",
       "      <td>0.007953</td>\n",
       "      <td>0.003510</td>\n",
       "      <td>0.003379</td>\n",
       "      <td>0.004335</td>\n",
       "      <td>0.003224</td>\n",
       "      <td>1.564736</td>\n",
       "      <td>3.047126</td>\n",
       "      <td>...</td>\n",
       "      <td>0</td>\n",
       "      <td>0</td>\n",
       "      <td>0</td>\n",
       "      <td>0</td>\n",
       "      <td>0</td>\n",
       "      <td>0</td>\n",
       "      <td>0</td>\n",
       "      <td>0</td>\n",
       "      <td>0</td>\n",
       "      <td>0</td>\n",
       "    </tr>\n",
       "    <tr>\n",
       "      <th>6</th>\n",
       "      <td>6.188315</td>\n",
       "      <td>1</td>\n",
       "      <td>0.848076</td>\n",
       "      <td>0.428770</td>\n",
       "      <td>0.168830</td>\n",
       "      <td>0.192490</td>\n",
       "      <td>0.197865</td>\n",
       "      <td>0.139404</td>\n",
       "      <td>7.954393</td>\n",
       "      <td>4.481620</td>\n",
       "      <td>...</td>\n",
       "      <td>0</td>\n",
       "      <td>0</td>\n",
       "      <td>0</td>\n",
       "      <td>0</td>\n",
       "      <td>0</td>\n",
       "      <td>0</td>\n",
       "      <td>0</td>\n",
       "      <td>0</td>\n",
       "      <td>0</td>\n",
       "      <td>0</td>\n",
       "    </tr>\n",
       "    <tr>\n",
       "      <th>7</th>\n",
       "      <td>6.513009</td>\n",
       "      <td>1</td>\n",
       "      <td>0.794560</td>\n",
       "      <td>0.486881</td>\n",
       "      <td>0.172372</td>\n",
       "      <td>0.169760</td>\n",
       "      <td>0.212686</td>\n",
       "      <td>0.141606</td>\n",
       "      <td>5.729705</td>\n",
       "      <td>6.004427</td>\n",
       "      <td>...</td>\n",
       "      <td>0</td>\n",
       "      <td>0</td>\n",
       "      <td>0</td>\n",
       "      <td>0</td>\n",
       "      <td>0</td>\n",
       "      <td>0</td>\n",
       "      <td>0</td>\n",
       "      <td>0</td>\n",
       "      <td>0</td>\n",
       "      <td>0</td>\n",
       "    </tr>\n",
       "    <tr>\n",
       "      <th>...</th>\n",
       "      <td>...</td>\n",
       "      <td>...</td>\n",
       "      <td>...</td>\n",
       "      <td>...</td>\n",
       "      <td>...</td>\n",
       "      <td>...</td>\n",
       "      <td>...</td>\n",
       "      <td>...</td>\n",
       "      <td>...</td>\n",
       "      <td>...</td>\n",
       "      <td>...</td>\n",
       "      <td>...</td>\n",
       "      <td>...</td>\n",
       "      <td>...</td>\n",
       "      <td>...</td>\n",
       "      <td>...</td>\n",
       "      <td>...</td>\n",
       "      <td>...</td>\n",
       "      <td>...</td>\n",
       "      <td>...</td>\n",
       "      <td>...</td>\n",
       "    </tr>\n",
       "    <tr>\n",
       "      <th>650</th>\n",
       "      <td>0.934813</td>\n",
       "      <td>0</td>\n",
       "      <td>0.064930</td>\n",
       "      <td>0.041012</td>\n",
       "      <td>0.020782</td>\n",
       "      <td>0.020356</td>\n",
       "      <td>0.023933</td>\n",
       "      <td>0.018813</td>\n",
       "      <td>6.292350</td>\n",
       "      <td>2.490708</td>\n",
       "      <td>...</td>\n",
       "      <td>0</td>\n",
       "      <td>0</td>\n",
       "      <td>0</td>\n",
       "      <td>0</td>\n",
       "      <td>0</td>\n",
       "      <td>0</td>\n",
       "      <td>0</td>\n",
       "      <td>0</td>\n",
       "      <td>0</td>\n",
       "      <td>0</td>\n",
       "    </tr>\n",
       "    <tr>\n",
       "      <th>651</th>\n",
       "      <td>2.736685</td>\n",
       "      <td>0</td>\n",
       "      <td>0.552802</td>\n",
       "      <td>0.249188</td>\n",
       "      <td>0.118913</td>\n",
       "      <td>0.119031</td>\n",
       "      <td>0.136784</td>\n",
       "      <td>0.099092</td>\n",
       "      <td>5.858591</td>\n",
       "      <td>3.225693</td>\n",
       "      <td>...</td>\n",
       "      <td>0</td>\n",
       "      <td>0</td>\n",
       "      <td>0</td>\n",
       "      <td>0</td>\n",
       "      <td>0</td>\n",
       "      <td>1</td>\n",
       "      <td>0</td>\n",
       "      <td>0</td>\n",
       "      <td>0</td>\n",
       "      <td>1</td>\n",
       "    </tr>\n",
       "    <tr>\n",
       "      <th>652</th>\n",
       "      <td>4.180412</td>\n",
       "      <td>0</td>\n",
       "      <td>0.460758</td>\n",
       "      <td>0.198235</td>\n",
       "      <td>0.094984</td>\n",
       "      <td>0.095003</td>\n",
       "      <td>0.109533</td>\n",
       "      <td>0.078279</td>\n",
       "      <td>4.081176</td>\n",
       "      <td>3.238340</td>\n",
       "      <td>...</td>\n",
       "      <td>0</td>\n",
       "      <td>0</td>\n",
       "      <td>0</td>\n",
       "      <td>0</td>\n",
       "      <td>0</td>\n",
       "      <td>0</td>\n",
       "      <td>0</td>\n",
       "      <td>0</td>\n",
       "      <td>0</td>\n",
       "      <td>0</td>\n",
       "    </tr>\n",
       "    <tr>\n",
       "      <th>653</th>\n",
       "      <td>4.180412</td>\n",
       "      <td>0</td>\n",
       "      <td>0.460758</td>\n",
       "      <td>0.198235</td>\n",
       "      <td>0.094984</td>\n",
       "      <td>0.095003</td>\n",
       "      <td>0.109533</td>\n",
       "      <td>0.078279</td>\n",
       "      <td>4.081176</td>\n",
       "      <td>3.238340</td>\n",
       "      <td>...</td>\n",
       "      <td>0</td>\n",
       "      <td>0</td>\n",
       "      <td>0</td>\n",
       "      <td>0</td>\n",
       "      <td>0</td>\n",
       "      <td>0</td>\n",
       "      <td>0</td>\n",
       "      <td>0</td>\n",
       "      <td>0</td>\n",
       "      <td>0</td>\n",
       "    </tr>\n",
       "    <tr>\n",
       "      <th>654</th>\n",
       "      <td>4.180412</td>\n",
       "      <td>0</td>\n",
       "      <td>0.460758</td>\n",
       "      <td>0.198235</td>\n",
       "      <td>0.094984</td>\n",
       "      <td>0.095003</td>\n",
       "      <td>0.109533</td>\n",
       "      <td>0.078279</td>\n",
       "      <td>4.081176</td>\n",
       "      <td>3.238340</td>\n",
       "      <td>...</td>\n",
       "      <td>0</td>\n",
       "      <td>0</td>\n",
       "      <td>0</td>\n",
       "      <td>0</td>\n",
       "      <td>0</td>\n",
       "      <td>0</td>\n",
       "      <td>0</td>\n",
       "      <td>0</td>\n",
       "      <td>0</td>\n",
       "      <td>0</td>\n",
       "    </tr>\n",
       "  </tbody>\n",
       "</table>\n",
       "<p>584 rows × 65 columns</p>\n",
       "</div>"
      ],
      "text/plain": [
       "     % of fractures  ALTERATION  PnS2_sum   PnL_sum  PnP3V_sum  PnP3H_sum  \\\n",
       "2          0.659654           1  0.012611  0.007953   0.003510   0.003379   \n",
       "3          0.659654           1  0.012611  0.007953   0.003510   0.003379   \n",
       "4          0.659654           1  0.012611  0.007953   0.003510   0.003379   \n",
       "6          6.188315           1  0.848076  0.428770   0.168830   0.192490   \n",
       "7          6.513009           1  0.794560  0.486881   0.172372   0.169760   \n",
       "..              ...         ...       ...       ...        ...        ...   \n",
       "650        0.934813           0  0.064930  0.041012   0.020782   0.020356   \n",
       "651        2.736685           0  0.552802  0.249188   0.118913   0.119031   \n",
       "652        4.180412           0  0.460758  0.198235   0.094984   0.095003   \n",
       "653        4.180412           0  0.460758  0.198235   0.094984   0.095003   \n",
       "654        4.180412           0  0.460758  0.198235   0.094984   0.095003   \n",
       "\n",
       "     PnP4_sum  PnP6V_sum  FnS2_sum   FnL_sum  ...  Branching  Blue patches  \\\n",
       "2    0.004335   0.003224  1.564736  3.047126  ...          0             0   \n",
       "3    0.004335   0.003224  1.564736  3.047126  ...          0             0   \n",
       "4    0.004335   0.003224  1.564736  3.047126  ...          0             0   \n",
       "6    0.197865   0.139404  7.954393  4.481620  ...          0             0   \n",
       "7    0.212686   0.141606  5.729705  6.004427  ...          0             0   \n",
       "..        ...        ...       ...       ...  ...        ...           ...   \n",
       "650  0.023933   0.018813  6.292350  2.490708  ...          0             0   \n",
       "651  0.136784   0.099092  5.858591  3.225693  ...          0             0   \n",
       "652  0.109533   0.078279  4.081176  3.238340  ...          0             0   \n",
       "653  0.109533   0.078279  4.081176  3.238340  ...          0             0   \n",
       "654  0.109533   0.078279  4.081176  3.238340  ...          0             0   \n",
       "\n",
       "     Magmatic intrusions  Hydrothermal  Rodingite  Magmatic veins  Offsets  \\\n",
       "2                      0             0          0               0        0   \n",
       "3                      0             0          0               0        0   \n",
       "4                      0             0          0               0        0   \n",
       "6                      0             0          0               0        0   \n",
       "7                      0             0          0               0        0   \n",
       "..                   ...           ...        ...             ...      ...   \n",
       "650                    0             0          0               0        0   \n",
       "651                    0             0          0               1        0   \n",
       "652                    0             0          0               0        0   \n",
       "653                    0             0          0               0        0   \n",
       "654                    0             0          0               0        0   \n",
       "\n",
       "     Shearing  Dark green  Dunitic zone  \n",
       "2           0           0             0  \n",
       "3           0           0             0  \n",
       "4           0           0             0  \n",
       "6           0           0             0  \n",
       "7           0           0             0  \n",
       "..        ...         ...           ...  \n",
       "650         0           0             0  \n",
       "651         0           0             1  \n",
       "652         0           0             0  \n",
       "653         0           0             0  \n",
       "654         0           0             0  \n",
       "\n",
       "[584 rows x 65 columns]"
      ]
     },
     "execution_count": 22,
     "metadata": {},
     "output_type": "execute_result"
    }
   ],
   "source": [
    "data"
   ]
  }
 ],
 "metadata": {
  "kernelspec": {
   "display_name": "Python [conda env:borehole] *",
   "language": "python",
   "name": "conda-env-borehole-py"
  },
  "language_info": {
   "codemirror_mode": {
    "name": "ipython",
    "version": 3
   },
   "file_extension": ".py",
   "mimetype": "text/x-python",
   "name": "python",
   "nbconvert_exporter": "python",
   "pygments_lexer": "ipython3",
   "version": "3.8.12"
  }
 },
 "nbformat": 4,
 "nbformat_minor": 5
}
