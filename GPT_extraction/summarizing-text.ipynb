{
 "cells": [
  {
   "cell_type": "code",
   "execution_count": 40,
   "id": "9a0578d4-3abd-4817-b94c-1ae771dd7c60",
   "metadata": {},
   "outputs": [
    {
     "name": "stdout",
     "output_type": "stream",
     "text": [
      "Requirement already satisfied: nltk in /opt/homebrew/anaconda3/lib/python3.10/site-packages (3.7)\n",
      "Requirement already satisfied: click in /opt/homebrew/anaconda3/lib/python3.10/site-packages (from nltk) (8.1.3)\n",
      "Requirement already satisfied: regex>=2021.8.3 in /opt/homebrew/anaconda3/lib/python3.10/site-packages (from nltk) (2022.7.9)\n",
      "Requirement already satisfied: tqdm in /opt/homebrew/anaconda3/lib/python3.10/site-packages (from nltk) (4.64.1)\n",
      "Requirement already satisfied: joblib in /opt/homebrew/anaconda3/lib/python3.10/site-packages (from nltk) (1.1.1)\n",
      "Requirement already satisfied: tenacity in /opt/homebrew/anaconda3/lib/python3.10/site-packages (8.0.1)\n"
     ]
    }
   ],
   "source": [
    "!pip install nltk\n",
    "!pip install tenacity"
   ]
  },
  {
   "cell_type": "code",
   "execution_count": 2,
   "id": "9b00573f-0e44-426d-8191-a1dd8c852f9f",
   "metadata": {},
   "outputs": [],
   "source": [
    "%matplotlib inline\n",
    "import pandas as pd\n",
    "import numpy as np\n",
    "import nltk\n",
    "from nltk.collocations import *\n",
    "from nltk.corpus import stopwords\n",
    "from nltk.stem import WordNetLemmatizer\n",
    "from nltk import FreqDist\n",
    "from tenacity import (\n",
    "    retry,\n",
    "    stop_after_attempt,\n",
    "    wait_random_exponential,\n",
    ")  # for exponential backoff\n",
    "\n",
    "stop_words = set(stopwords.words(\"english\"))\n",
    "lemmatizer = WordNetLemmatizer()"
   ]
  },
  {
   "cell_type": "code",
   "execution_count": 3,
   "id": "1dfb734c-8afa-4132-ab62-8584f4569242",
   "metadata": {},
   "outputs": [],
   "source": [
    "df = pd.read_excel('Dataset_BA1B.xlsx')"
   ]
  },
  {
   "cell_type": "code",
   "execution_count": 4,
   "id": "970e2a6d-5985-422f-8a67-ef2d471b319e",
   "metadata": {},
   "outputs": [
    {
     "data": {
      "text/plain": [
       "Index(['CORE', 'SECTION', 'SECTION_UNIT', '% of fractures', 'IMAGES',\n",
       "       'SEGMENTATION', 'TOP_DEPTH', 'UNIT_DESC4', 'VEIN_INTENSITY',\n",
       "       'ALTERATION', 'REMARKS1', 'REMARKS2', 'REMARKS4', 'REMARKS5',\n",
       "       'UNIT_DESC5', 'UNIT_DESC3', 'UNIT_TYPE_Dunite', 'UNIT_TYPE_Fault rock',\n",
       "       'UNIT_TYPE_Gabbro', 'UNIT_TYPE_Harzburgite', 'UNIT_TYPE_Metagabbro',\n",
       "       'UNIT_TYPE_Other', 'UNIT_CLASS_OPHIO', 'UNIT_CLASS_UND',\n",
       "       'TEXTURES_Brecciated', 'TEXTURES_Sheared',\n",
       "       'GRAINSIZE_Cryptocrystalline', 'GRAINSIZE_Fine grained',\n",
       "       'GRAINSIZE_Medium grained', 'GRAINSIZE_Microcrystalline',\n",
       "       'GRAINSIZE2_Coarse grained', 'GRAINSIZE2_Cryptocrystalline',\n",
       "       'GRAINSIZE2_Fine grained', 'GRAINSIZE2_Medium grained',\n",
       "       'GRAINSIZE2_Pegmatitic'],\n",
       "      dtype='object')"
      ]
     },
     "execution_count": 4,
     "metadata": {},
     "output_type": "execute_result"
    }
   ],
   "source": [
    "df.columns"
   ]
  },
  {
   "cell_type": "code",
   "execution_count": 5,
   "id": "36e42bd7-d425-41f0-b1b2-3384b33aaa24",
   "metadata": {},
   "outputs": [],
   "source": [
    "df[['REMARKS1', 'REMARKS2', 'REMARKS4', 'REMARKS5',]] = df[['REMARKS1', 'REMARKS2', 'REMARKS4', 'REMARKS5',]].fillna('')\n",
    "df[['REMARKS1', 'REMARKS2', 'REMARKS4', 'REMARKS5',]] = df[['REMARKS1', 'REMARKS2', 'REMARKS4', 'REMARKS5',]].replace('none', '')"
   ]
  },
  {
   "cell_type": "code",
   "execution_count": 6,
   "id": "49952201-8892-4426-a2fa-77baf324c561",
   "metadata": {},
   "outputs": [],
   "source": [
    "df['REMARKS_ALL'] = (df['REMARKS1'] + ' ' + df['REMARKS2'] + ' ' + df['REMARKS4'] + ' ' + df['REMARKS5'])"
   ]
  },
  {
   "cell_type": "code",
   "execution_count": 7,
   "id": "d25f1af0-108a-41bd-bfc8-840f65fa430e",
   "metadata": {},
   "outputs": [
    {
     "data": {
      "text/plain": [
       "0      microcrystalline carbonate visible on vein sur...\n",
       "1      Irregular network of black serp veins (2-5 mm ...\n",
       "2      Serp mesh texture cross-cut by later, < 0.2 mm...\n",
       "3        MICROBIO SAMPLE. Serp dunite with a microgab...\n",
       "4      mesh texture of black veins cross-cut by 0.5 m...\n",
       "                             ...                        \n",
       "650      Black serp hzb finishing by a px-poor zone b...\n",
       "651      Black serp hzb starting with px-poor zone as...\n",
       "652      Black serp hzb with very altered thin pxnite...\n",
       "653      Black serp dunite with a offset microgabbroi...\n",
       "654      Very altered microgabbro with white veins cr...\n",
       "Name: REMARKS_ALL, Length: 655, dtype: object"
      ]
     },
     "execution_count": 7,
     "metadata": {},
     "output_type": "execute_result"
    }
   ],
   "source": [
    "df['REMARKS_ALL']"
   ]
  },
  {
   "cell_type": "code",
   "execution_count": 8,
   "id": "dc596b12-4739-4bb0-adef-3729222c53a3",
   "metadata": {},
   "outputs": [],
   "source": [
    "bigram_measures = nltk.collocations.BigramAssocMeasures()"
   ]
  },
  {
   "cell_type": "code",
   "execution_count": 9,
   "id": "5c01df31-addc-4cbb-af2a-2ef18b117ce7",
   "metadata": {},
   "outputs": [],
   "source": [
    "trigram_measures = nltk.collocations.TrigramAssocMeasures()"
   ]
  },
  {
   "cell_type": "code",
   "execution_count": 10,
   "id": "5ab2fdb4-9b5e-440a-b7f5-7688f6006550",
   "metadata": {},
   "outputs": [],
   "source": [
    "fourgram_measures = nltk.collocations.QuadgramAssocMeasures()"
   ]
  },
  {
   "cell_type": "code",
   "execution_count": 11,
   "id": "a1607af7-5675-490a-a962-c56ac2aebf32",
   "metadata": {},
   "outputs": [],
   "source": [
    "onestr = ','.join(df.REMARKS_ALL.values).lower()\n",
    "\n",
    "words = nltk.tokenize.word_tokenize(onestr)\n",
    "\n",
    "words = [word for word in words if word.casefold() not in stop_words]\n",
    "words = [lemmatizer.lemmatize(word) for word in words]"
   ]
  },
  {
   "cell_type": "code",
   "execution_count": 12,
   "id": "6318ae4a-4b67-4658-a256-e2715bee5164",
   "metadata": {},
   "outputs": [],
   "source": [
    "finder = BigramCollocationFinder.from_words(words)"
   ]
  },
  {
   "cell_type": "code",
   "execution_count": 13,
   "id": "0647f16a-cd8c-44ca-bcc6-7b0f527c7eb2",
   "metadata": {},
   "outputs": [],
   "source": [
    "frequency_distribution = FreqDist(words)"
   ]
  },
  {
   "cell_type": "code",
   "execution_count": 14,
   "id": "8c52b835-b547-4935-8068-f210a48abffe",
   "metadata": {},
   "outputs": [],
   "source": [
    "finder.apply_freq_filter(10)"
   ]
  },
  {
   "cell_type": "code",
   "execution_count": 15,
   "id": "9ccb9fcd-2421-41b0-86b3-2c1411734896",
   "metadata": {},
   "outputs": [
    {
     "data": {
      "text/plain": [
       "[('smell', 'sulphur'),\n",
       " ('shape', 'preferred'),\n",
       " ('preferred', 'orientation'),\n",
       " ('euhedral', 'calcite'),\n",
       " ('high', 'density'),\n",
       " ('appearance', 'masked'),\n",
       " ('microbio', 'sample'),\n",
       " ('crystal', 'shape'),\n",
       " ('strong', 'crystal'),\n",
       " ('mesh', 'texture'),\n",
       " ('angular', 'clast'),\n",
       " ('cross', 'cut'),\n",
       " ('coalescence', 'multiple'),\n",
       " ('forming', 'coalescence'),\n",
       " ('clay', 'mineral'),\n",
       " ('faint', 'lineation'),\n",
       " ('variable', 'thickness'),\n",
       " ('cutting', 'sample'),\n",
       " ('broken', 'surface'),\n",
       " ('masked', 'striation'),\n",
       " ('striation', 'caused'),\n",
       " ('medium', 'grained'),\n",
       " ('deg', 'intersection'),\n",
       " ('sigmoidal', 'veinlets'),\n",
       " ('lineation', 'slickensides'),\n",
       " ('variable', 'amount'),\n",
       " ('degree', 'dip'),\n",
       " ('core', 'barrel'),\n",
       " ('90', 'deg'),\n",
       " ('caused', 'core'),\n",
       " ('60', 'degree'),\n",
       " ('coarse', 'grain'),\n",
       " ('harzb', 'w/'),\n",
       " ('magmatic', 'intrusion'),\n",
       " ('open', 'crack'),\n",
       " ('amount', 'px'),\n",
       " ('coarse', 'grained'),\n",
       " ('alteration', 'halo'),\n",
       " ('highly', 'disrupted'),\n",
       " ('90', 'degree'),\n",
       " ('thin', 'pyroxenite'),\n",
       " ('massive', 'harzburgite'),\n",
       " ('albite', '?'),\n",
       " ('zeosite', '?'),\n",
       " ('w/waxy', 'blue'),\n",
       " ('throughout', 'section'),\n",
       " ('branching', '90'),\n",
       " ('multiple', 'veinlets'),\n",
       " ('minor', 'carb'),\n",
       " ('harzburgite', 'w/several'),\n",
       " ('open', 'fracture'),\n",
       " ('sheared', 'leucocratic'),\n",
       " ('section', 'strong'),\n",
       " ('rich', 'magnetite'),\n",
       " ('serpentinized', 'harzburgite'),\n",
       " ('sample', ':'),\n",
       " ('-', 'branching'),\n",
       " ('5', 'mm'),\n",
       " ('slickensides', 'open'),\n",
       " ('<', '1mm'),\n",
       " ('wehrlitic', 'zone'),\n",
       " ('rodingite', '?'),\n",
       " ('brown', 'px'),\n",
       " ('dunite', 'magnetite'),\n",
       " ('hydrothermalized', 'zone'),\n",
       " ('1', 'mm'),\n",
       " ('3', 'mm'),\n",
       " ('ca-si', '?'),\n",
       " ('px', 'rich'),\n",
       " ('dunitic', 'zone'),\n",
       " ('gabbroic', 'dyke'),\n",
       " ('w/', 'several'),\n",
       " ('bulk', 'rock'),\n",
       " ('variously', 'altered'),\n",
       " ('lineation', 'open'),\n",
       " ('wavy', 'waxy'),\n",
       " ('variably', 'altered'),\n",
       " ('2', 'mm'),\n",
       " ('highly', 'hydrothermalized'),\n",
       " ('<', '1cm'),\n",
       " ('plagio', 'altered'),\n",
       " ('red', 'px'),\n",
       " ('harzburgite', 'crosscut'),\n",
       " ('dunite', 'rich'),\n",
       " ('<', '1'),\n",
       " ('1mm', 'thick'),\n",
       " ('lower', 'gabbro'),\n",
       " ('blue', 'patch'),\n",
       " ('2cm', 'thick'),\n",
       " ('bulk', 'veins.'),\n",
       " ('3cm', 'thick'),\n",
       " ('serpentinized', 'dunite'),\n",
       " ('1cm', 'thick'),\n",
       " ('section', '-'),\n",
       " ('white', 'plagioclase'),\n",
       " ('completely', 'altered'),\n",
       " ('crosscutting', 'branching'),\n",
       " ('dark', 'green'),\n",
       " ('mm', 'thick'),\n",
       " ('white', 'pl')]"
      ]
     },
     "execution_count": 15,
     "metadata": {},
     "output_type": "execute_result"
    }
   ],
   "source": [
    "finder.nbest(fourgram_measures.pmi, 100)"
   ]
  },
  {
   "cell_type": "code",
   "execution_count": 16,
   "id": "1672f8d1-6fce-4c8c-ab14-dab8701d14f4",
   "metadata": {},
   "outputs": [],
   "source": [
    "# nltk.download('genesis')\n",
    "# nltk.corpus.genesis.words('english-web.txt')"
   ]
  },
  {
   "cell_type": "code",
   "execution_count": 17,
   "id": "a869a2f2-bac6-41c4-92e5-392a65631a6b",
   "metadata": {},
   "outputs": [],
   "source": [
    "# nltk.download('punkt')\n",
    "# nltk.tokenize.word_tokenize(','.join(df.REMARKS_ALL.values))"
   ]
  },
  {
   "cell_type": "code",
   "execution_count": 18,
   "id": "0d9a66c1-fe53-401a-9ca8-591d94a1a50c",
   "metadata": {},
   "outputs": [],
   "source": [
    "# nltk.download(\"stopwords\")"
   ]
  },
  {
   "cell_type": "code",
   "execution_count": 19,
   "id": "4f55925a-5cc6-4752-aad4-0220ab669eba",
   "metadata": {},
   "outputs": [],
   "source": [
    "# nltk.download('wordnet')"
   ]
  },
  {
   "cell_type": "code",
   "execution_count": 20,
   "id": "f388b4db-45d4-45da-999b-9e1ee7d77048",
   "metadata": {},
   "outputs": [],
   "source": [
    "# nltk.download('omw-1.4')"
   ]
  },
  {
   "cell_type": "code",
   "execution_count": 21,
   "id": "a589ba62-659e-435e-bcbc-7aa08467d804",
   "metadata": {},
   "outputs": [],
   "source": [
    "from summa.summarizer import summarize"
   ]
  },
  {
   "cell_type": "code",
   "execution_count": 22,
   "id": "2df3e855-5799-4c36-8346-fa2783481491",
   "metadata": {},
   "outputs": [],
   "source": [
    "# summarize(df['REMARKS_ALL'], words=5)"
   ]
  },
  {
   "cell_type": "code",
   "execution_count": 23,
   "id": "c6853c22-d15b-4539-9276-33ef67497a74",
   "metadata": {},
   "outputs": [],
   "source": [
    "summa_data = '\\n'.join([row[1][0] for row in df[['REMARKS_ALL']].iterrows()])"
   ]
  },
  {
   "cell_type": "code",
   "execution_count": 24,
   "id": "555bcac5-a7dd-408b-8c18-39f7e04e9bd8",
   "metadata": {},
   "outputs": [
    {
     "data": {
      "text/plain": [
       "''"
      ]
     },
     "execution_count": 24,
     "metadata": {},
     "output_type": "execute_result"
    }
   ],
   "source": [
    "summarize(summa_data, words=5)"
   ]
  },
  {
   "cell_type": "code",
   "execution_count": 25,
   "id": "3eb2e227-b424-45af-b121-5d1fe652c51d",
   "metadata": {},
   "outputs": [
    {
     "data": {
      "text/plain": [
       "[]"
      ]
     },
     "execution_count": 25,
     "metadata": {},
     "output_type": "execute_result"
    }
   ],
   "source": [
    "summarize(\"\"\"what is going on i have no idea the quick brown fox jumped over the lazy dog i love star trek\n",
    "everything is complicated nobody is living everyone is dead i just want to eat beans\n",
    "eating beans is a complex activity that requires a strong ability to digest legumes\"\"\"\n",
    "          ,split=True)"
   ]
  },
  {
   "cell_type": "code",
   "execution_count": 58,
   "id": "3384983e-e898-4a5e-8de5-fd80f9b32d9b",
   "metadata": {},
   "outputs": [],
   "source": [
    "# with open('api-key.txt') as f:\n",
    "#     openai_api_key = f.readline()"
   ]
  },
  {
   "cell_type": "code",
   "execution_count": 59,
   "id": "bd50f352-a495-4b16-bf23-2744c60f8f29",
   "metadata": {},
   "outputs": [],
   "source": [
    "import openai\n",
    "import ast\n",
    "\n",
    "with open('api-key.txt') as f:\n",
    "    openai.api_key = f.readline()"
   ]
  },
  {
   "cell_type": "code",
   "execution_count": 62,
   "id": "301a325f-d143-46f3-9b19-04afc18adecb",
   "metadata": {},
   "outputs": [],
   "source": [
    "# https://tenacity.readthedocs.io/en/latest/api.html#tenacity.wait.wait_exponential\n",
    "# https://github.com/openai/openai-cookbook/blob/main/examples/How_to_handle_rate_limits.ipynb\n",
    "@retry(wait=wait_random_exponential(min=1, max=60), stop=stop_after_attempt(6))\n",
    "def summarize(text, debug=False):\n",
    "    prompt = f\"Please summarize the following text into ten keywords and explain why you picked each key word. The text to summarize is:{text}\"\n",
    "    \n",
    "    if debug == True:\n",
    "        print(prompt)\n",
    "        \n",
    "    return openai.ChatCompletion.create(\n",
    "             model='gpt-3.5-turbo'\n",
    "            ,messages=[{'role':'user', 'content':prompt},]\n",
    "            # prompt=(f\"Please summarize the following text into ten keywords and explain why you picked each key word. The text to summarize is:\\n{text}\\n\\nSummary:\"),\n",
    "            # temperature=0.5,\n",
    "            # max_tokens=1024,\n",
    "            # n = 1,\n",
    "            # stop=None\n",
    "        )"
   ]
  },
  {
   "cell_type": "code",
   "execution_count": 63,
   "id": "c28eeaf8-cfe4-40fd-b58d-4360d6484525",
   "metadata": {},
   "outputs": [
    {
     "data": {
      "text/plain": [
       "'microcrystalline carbonate visible on vein surfaces. clasts are 90% angular and 10% rounded. This indicates that the thickness of alluvium is < few 10s cm and the bedrock is surfacing. angular fragments at 0 to 60 cm with mixed lithologies varying from serpentinised harzburgite to dunite. Serpentinization, oxidation, carbonation in veins'"
      ]
     },
     "execution_count": 63,
     "metadata": {},
     "output_type": "execute_result"
    }
   ],
   "source": [
    "df['REMARKS_ALL'][0]"
   ]
  },
  {
   "cell_type": "code",
   "execution_count": 65,
   "id": "88651f4b-b8ee-4169-a22d-27676966f169",
   "metadata": {},
   "outputs": [
    {
     "name": "stdout",
     "output_type": "stream",
     "text": [
      "Please summarize the following text into ten keywords and explain why you picked each key word. The text to summarize is:microcrystalline carbonate visible on vein surfaces. clasts are 90% angular and 10% rounded. This indicates that the thickness of alluvium is < few 10s cm and the bedrock is surfacing. angular fragments at 0 to 60 cm with mixed lithologies varying from serpentinised harzburgite to dunite. Serpentinization, oxidation, carbonation in veins\n"
     ]
    }
   ],
   "source": [
    "summed = summarize(df['REMARKS_ALL'][0], debug=True)"
   ]
  },
  {
   "cell_type": "code",
   "execution_count": 66,
   "id": "92adfc65-5b67-479a-9615-5d798266564f",
   "metadata": {},
   "outputs": [
    {
     "name": "stdout",
     "output_type": "stream",
     "text": [
      "1. Microcrystalline carbonate - this is the main mineral visible on the vein surfaces.\n",
      "2. Clasts - these are rock fragments that make up the alluvium, with 90% being angular.\n",
      "3. Rounded - only 10% of the clasts are rounded, indicating recent weathering.\n",
      "4. Thickness - the thickness of the alluvium is less than a few tens of centimeters.\n",
      "5. Bedrock - the bedrock is starting to surface.\n",
      "6. Angular fragments - these are found at depths of 0-60cm and are composed of various lithologies.\n",
      "7. Serpentinised harzburgite - a type of rock found in the angular fragments.\n",
      "8. Dunite - another type of rock found in the angular fragments.\n",
      "9. Serpentinization - a process that ties into the formation of serpentinised harzburgite.\n",
      "10. Oxidation and carbonation - processes that affect the formation of the microcrystalline carbonate. \n",
      "\n",
      "I picked these keywords because they describe key aspects of the geological features present in the area being discussed. They give an overall picture of the type of rocks and minerals associated with the alluvium and the processes that have influenced their formation. They also provide information about the thickness of the alluvium and the state of the underlying bedrock.\n"
     ]
    }
   ],
   "source": [
    "print(summed['choices'][0]['message']['content'])"
   ]
  },
  {
   "cell_type": "code",
   "execution_count": 32,
   "id": "24bb9227-17a8-4e2c-8383-4c19431f3cbd",
   "metadata": {},
   "outputs": [],
   "source": [
    "# summed2 = summarize(df['REMARKS_ALL'][0])\n",
    "# print(summed2['choices'][0]['message']['content'])"
   ]
  },
  {
   "cell_type": "code",
   "execution_count": 33,
   "id": "2a1d032a-98b7-49b8-ae53-ce47dabf3eb4",
   "metadata": {},
   "outputs": [],
   "source": [
    "# summed100 = summarize(df['REMARKS_ALL'][100])\n",
    "# print(summed100['choices'][0]['message']['content'])"
   ]
  },
  {
   "cell_type": "code",
   "execution_count": 34,
   "id": "3dcd819c-f66f-48c5-99c5-c7418e566b17",
   "metadata": {},
   "outputs": [],
   "source": [
    "# summed200 = summarize(df['REMARKS_ALL'][200])\n",
    "# print(summed200['choices'][0]['message']['content'])"
   ]
  },
  {
   "cell_type": "code",
   "execution_count": 35,
   "id": "1828d6e0-e2ce-4b1e-9c9c-4f47f0b2651f",
   "metadata": {},
   "outputs": [],
   "source": [
    "# summed300 = summarize(df['REMARKS_ALL'][300])\n",
    "# print(summed300['choices'][0]['message']['content'])"
   ]
  },
  {
   "cell_type": "code",
   "execution_count": 36,
   "id": "b79dd6ef-1645-451d-b3df-68f5d88100b5",
   "metadata": {},
   "outputs": [],
   "source": [
    "# summed400 = summarize(df['REMARKS_ALL'][400])\n",
    "# print(summed400['choices'][0]['message']['content'])"
   ]
  },
  {
   "cell_type": "code",
   "execution_count": 37,
   "id": "e490a1de-6cb1-4d1f-8c5e-76f541f088b1",
   "metadata": {},
   "outputs": [],
   "source": [
    "# summed500 = summarize(df['REMARKS_ALL'][500])\n",
    "# print(summed500['choices'][0]['message']['content'])"
   ]
  },
  {
   "cell_type": "code",
   "execution_count": 38,
   "id": "332effe0-828f-48a1-855f-bf20e7e34b40",
   "metadata": {},
   "outputs": [],
   "source": [
    "# summed600 = summarize(df['REMARKS_ALL'][600])\n",
    "# print(summed600['choices'][0]['message']['content'])"
   ]
  },
  {
   "cell_type": "code",
   "execution_count": 39,
   "id": "6c536751-9f26-46e5-b4f8-420d61fd98a0",
   "metadata": {},
   "outputs": [
    {
     "ename": "RateLimitError",
     "evalue": "That model is currently overloaded with other requests. You can retry your request, or contact us through our help center at help.openai.com if the error persists. (Please include the request ID adab90942be60454ddbce2d38e0c7ce9 in your message.)",
     "output_type": "error",
     "traceback": [
      "\u001b[0;31m---------------------------------------------------------------------------\u001b[0m",
      "\u001b[0;31mRateLimitError\u001b[0m                            Traceback (most recent call last)",
      "Cell \u001b[0;32mIn[39], line 5\u001b[0m\n\u001b[1;32m      3\u001b[0m \u001b[38;5;28;01mfor\u001b[39;00m row \u001b[38;5;129;01min\u001b[39;00m df\u001b[38;5;241m.\u001b[39miterrows():\n\u001b[1;32m      4\u001b[0m     remarks \u001b[38;5;241m=\u001b[39m row[\u001b[38;5;241m1\u001b[39m][\u001b[38;5;124m'\u001b[39m\u001b[38;5;124mREMARKS_ALL\u001b[39m\u001b[38;5;124m'\u001b[39m]\n\u001b[0;32m----> 5\u001b[0m     summed \u001b[38;5;241m=\u001b[39m \u001b[43msummarize\u001b[49m\u001b[43m(\u001b[49m\u001b[43mremarks\u001b[49m\u001b[43m)\u001b[49m\n\u001b[1;32m      6\u001b[0m     text_summary\u001b[38;5;241m.\u001b[39mappend(summed)\n",
      "Cell \u001b[0;32mIn[28], line 7\u001b[0m, in \u001b[0;36msummarize\u001b[0;34m(text, debug)\u001b[0m\n\u001b[1;32m      4\u001b[0m \u001b[38;5;28;01mif\u001b[39;00m debug \u001b[38;5;241m==\u001b[39m \u001b[38;5;28;01mTrue\u001b[39;00m:\n\u001b[1;32m      5\u001b[0m     \u001b[38;5;28mprint\u001b[39m(prompt)\n\u001b[0;32m----> 7\u001b[0m \u001b[38;5;28;01mreturn\u001b[39;00m \u001b[43mopenai\u001b[49m\u001b[38;5;241;43m.\u001b[39;49m\u001b[43mChatCompletion\u001b[49m\u001b[38;5;241;43m.\u001b[39;49m\u001b[43mcreate\u001b[49m\u001b[43m(\u001b[49m\n\u001b[1;32m      8\u001b[0m \u001b[43m         \u001b[49m\u001b[43mmodel\u001b[49m\u001b[38;5;241;43m=\u001b[39;49m\u001b[38;5;124;43m'\u001b[39;49m\u001b[38;5;124;43mgpt-3.5-turbo\u001b[39;49m\u001b[38;5;124;43m'\u001b[39;49m\n\u001b[1;32m      9\u001b[0m \u001b[43m        \u001b[49m\u001b[43m,\u001b[49m\u001b[43mmessages\u001b[49m\u001b[38;5;241;43m=\u001b[39;49m\u001b[43m[\u001b[49m\u001b[43m{\u001b[49m\u001b[38;5;124;43m'\u001b[39;49m\u001b[38;5;124;43mrole\u001b[39;49m\u001b[38;5;124;43m'\u001b[39;49m\u001b[43m:\u001b[49m\u001b[38;5;124;43m'\u001b[39;49m\u001b[38;5;124;43muser\u001b[39;49m\u001b[38;5;124;43m'\u001b[39;49m\u001b[43m,\u001b[49m\u001b[43m \u001b[49m\u001b[38;5;124;43m'\u001b[39;49m\u001b[38;5;124;43mcontent\u001b[39;49m\u001b[38;5;124;43m'\u001b[39;49m\u001b[43m:\u001b[49m\u001b[43mprompt\u001b[49m\u001b[43m}\u001b[49m\u001b[43m,\u001b[49m\u001b[43m]\u001b[49m\n\u001b[1;32m     10\u001b[0m \u001b[43m        \u001b[49m\u001b[38;5;66;43;03m# prompt=(f\"Please summarize the following text into ten keywords and explain why you picked each key word. The text to summarize is:\\n{text}\\n\\nSummary:\"),\u001b[39;49;00m\n\u001b[1;32m     11\u001b[0m \u001b[43m        \u001b[49m\u001b[38;5;66;43;03m# temperature=0.5,\u001b[39;49;00m\n\u001b[1;32m     12\u001b[0m \u001b[43m        \u001b[49m\u001b[38;5;66;43;03m# max_tokens=1024,\u001b[39;49;00m\n\u001b[1;32m     13\u001b[0m \u001b[43m        \u001b[49m\u001b[38;5;66;43;03m# n = 1,\u001b[39;49;00m\n\u001b[1;32m     14\u001b[0m \u001b[43m        \u001b[49m\u001b[38;5;66;43;03m# stop=None\u001b[39;49;00m\n\u001b[1;32m     15\u001b[0m \u001b[43m    \u001b[49m\u001b[43m)\u001b[49m\n",
      "File \u001b[0;32m/opt/homebrew/anaconda3/lib/python3.10/site-packages/openai/api_resources/chat_completion.py:25\u001b[0m, in \u001b[0;36mChatCompletion.create\u001b[0;34m(cls, *args, **kwargs)\u001b[0m\n\u001b[1;32m     23\u001b[0m \u001b[38;5;28;01mwhile\u001b[39;00m \u001b[38;5;28;01mTrue\u001b[39;00m:\n\u001b[1;32m     24\u001b[0m     \u001b[38;5;28;01mtry\u001b[39;00m:\n\u001b[0;32m---> 25\u001b[0m         \u001b[38;5;28;01mreturn\u001b[39;00m \u001b[38;5;28;43msuper\u001b[39;49m\u001b[43m(\u001b[49m\u001b[43m)\u001b[49m\u001b[38;5;241;43m.\u001b[39;49m\u001b[43mcreate\u001b[49m\u001b[43m(\u001b[49m\u001b[38;5;241;43m*\u001b[39;49m\u001b[43margs\u001b[49m\u001b[43m,\u001b[49m\u001b[43m \u001b[49m\u001b[38;5;241;43m*\u001b[39;49m\u001b[38;5;241;43m*\u001b[39;49m\u001b[43mkwargs\u001b[49m\u001b[43m)\u001b[49m\n\u001b[1;32m     26\u001b[0m     \u001b[38;5;28;01mexcept\u001b[39;00m TryAgain \u001b[38;5;28;01mas\u001b[39;00m e:\n\u001b[1;32m     27\u001b[0m         \u001b[38;5;28;01mif\u001b[39;00m timeout \u001b[38;5;129;01mis\u001b[39;00m \u001b[38;5;129;01mnot\u001b[39;00m \u001b[38;5;28;01mNone\u001b[39;00m \u001b[38;5;129;01mand\u001b[39;00m time\u001b[38;5;241m.\u001b[39mtime() \u001b[38;5;241m>\u001b[39m start \u001b[38;5;241m+\u001b[39m timeout:\n",
      "File \u001b[0;32m/opt/homebrew/anaconda3/lib/python3.10/site-packages/openai/api_resources/abstract/engine_api_resource.py:153\u001b[0m, in \u001b[0;36mEngineAPIResource.create\u001b[0;34m(cls, api_key, api_base, api_type, request_id, api_version, organization, **params)\u001b[0m\n\u001b[1;32m    127\u001b[0m \u001b[38;5;129m@classmethod\u001b[39m\n\u001b[1;32m    128\u001b[0m \u001b[38;5;28;01mdef\u001b[39;00m \u001b[38;5;21mcreate\u001b[39m(\n\u001b[1;32m    129\u001b[0m     \u001b[38;5;28mcls\u001b[39m,\n\u001b[0;32m   (...)\u001b[0m\n\u001b[1;32m    136\u001b[0m     \u001b[38;5;241m*\u001b[39m\u001b[38;5;241m*\u001b[39mparams,\n\u001b[1;32m    137\u001b[0m ):\n\u001b[1;32m    138\u001b[0m     (\n\u001b[1;32m    139\u001b[0m         deployment_id,\n\u001b[1;32m    140\u001b[0m         engine,\n\u001b[0;32m   (...)\u001b[0m\n\u001b[1;32m    150\u001b[0m         api_key, api_base, api_type, api_version, organization, \u001b[38;5;241m*\u001b[39m\u001b[38;5;241m*\u001b[39mparams\n\u001b[1;32m    151\u001b[0m     )\n\u001b[0;32m--> 153\u001b[0m     response, _, api_key \u001b[38;5;241m=\u001b[39m \u001b[43mrequestor\u001b[49m\u001b[38;5;241;43m.\u001b[39;49m\u001b[43mrequest\u001b[49m\u001b[43m(\u001b[49m\n\u001b[1;32m    154\u001b[0m \u001b[43m        \u001b[49m\u001b[38;5;124;43m\"\u001b[39;49m\u001b[38;5;124;43mpost\u001b[39;49m\u001b[38;5;124;43m\"\u001b[39;49m\u001b[43m,\u001b[49m\n\u001b[1;32m    155\u001b[0m \u001b[43m        \u001b[49m\u001b[43murl\u001b[49m\u001b[43m,\u001b[49m\n\u001b[1;32m    156\u001b[0m \u001b[43m        \u001b[49m\u001b[43mparams\u001b[49m\u001b[38;5;241;43m=\u001b[39;49m\u001b[43mparams\u001b[49m\u001b[43m,\u001b[49m\n\u001b[1;32m    157\u001b[0m \u001b[43m        \u001b[49m\u001b[43mheaders\u001b[49m\u001b[38;5;241;43m=\u001b[39;49m\u001b[43mheaders\u001b[49m\u001b[43m,\u001b[49m\n\u001b[1;32m    158\u001b[0m \u001b[43m        \u001b[49m\u001b[43mstream\u001b[49m\u001b[38;5;241;43m=\u001b[39;49m\u001b[43mstream\u001b[49m\u001b[43m,\u001b[49m\n\u001b[1;32m    159\u001b[0m \u001b[43m        \u001b[49m\u001b[43mrequest_id\u001b[49m\u001b[38;5;241;43m=\u001b[39;49m\u001b[43mrequest_id\u001b[49m\u001b[43m,\u001b[49m\n\u001b[1;32m    160\u001b[0m \u001b[43m        \u001b[49m\u001b[43mrequest_timeout\u001b[49m\u001b[38;5;241;43m=\u001b[39;49m\u001b[43mrequest_timeout\u001b[49m\u001b[43m,\u001b[49m\n\u001b[1;32m    161\u001b[0m \u001b[43m    \u001b[49m\u001b[43m)\u001b[49m\n\u001b[1;32m    163\u001b[0m     \u001b[38;5;28;01mif\u001b[39;00m stream:\n\u001b[1;32m    164\u001b[0m         \u001b[38;5;66;03m# must be an iterator\u001b[39;00m\n\u001b[1;32m    165\u001b[0m         \u001b[38;5;28;01massert\u001b[39;00m \u001b[38;5;129;01mnot\u001b[39;00m \u001b[38;5;28misinstance\u001b[39m(response, OpenAIResponse)\n",
      "File \u001b[0;32m/opt/homebrew/anaconda3/lib/python3.10/site-packages/openai/api_requestor.py:226\u001b[0m, in \u001b[0;36mAPIRequestor.request\u001b[0;34m(self, method, url, params, headers, files, stream, request_id, request_timeout)\u001b[0m\n\u001b[1;32m    205\u001b[0m \u001b[38;5;28;01mdef\u001b[39;00m \u001b[38;5;21mrequest\u001b[39m(\n\u001b[1;32m    206\u001b[0m     \u001b[38;5;28mself\u001b[39m,\n\u001b[1;32m    207\u001b[0m     method,\n\u001b[0;32m   (...)\u001b[0m\n\u001b[1;32m    214\u001b[0m     request_timeout: Optional[Union[\u001b[38;5;28mfloat\u001b[39m, Tuple[\u001b[38;5;28mfloat\u001b[39m, \u001b[38;5;28mfloat\u001b[39m]]] \u001b[38;5;241m=\u001b[39m \u001b[38;5;28;01mNone\u001b[39;00m,\n\u001b[1;32m    215\u001b[0m ) \u001b[38;5;241m-\u001b[39m\u001b[38;5;241m>\u001b[39m Tuple[Union[OpenAIResponse, Iterator[OpenAIResponse]], \u001b[38;5;28mbool\u001b[39m, \u001b[38;5;28mstr\u001b[39m]:\n\u001b[1;32m    216\u001b[0m     result \u001b[38;5;241m=\u001b[39m \u001b[38;5;28mself\u001b[39m\u001b[38;5;241m.\u001b[39mrequest_raw(\n\u001b[1;32m    217\u001b[0m         method\u001b[38;5;241m.\u001b[39mlower(),\n\u001b[1;32m    218\u001b[0m         url,\n\u001b[0;32m   (...)\u001b[0m\n\u001b[1;32m    224\u001b[0m         request_timeout\u001b[38;5;241m=\u001b[39mrequest_timeout,\n\u001b[1;32m    225\u001b[0m     )\n\u001b[0;32m--> 226\u001b[0m     resp, got_stream \u001b[38;5;241m=\u001b[39m \u001b[38;5;28;43mself\u001b[39;49m\u001b[38;5;241;43m.\u001b[39;49m\u001b[43m_interpret_response\u001b[49m\u001b[43m(\u001b[49m\u001b[43mresult\u001b[49m\u001b[43m,\u001b[49m\u001b[43m \u001b[49m\u001b[43mstream\u001b[49m\u001b[43m)\u001b[49m\n\u001b[1;32m    227\u001b[0m     \u001b[38;5;28;01mreturn\u001b[39;00m resp, got_stream, \u001b[38;5;28mself\u001b[39m\u001b[38;5;241m.\u001b[39mapi_key\n",
      "File \u001b[0;32m/opt/homebrew/anaconda3/lib/python3.10/site-packages/openai/api_requestor.py:619\u001b[0m, in \u001b[0;36mAPIRequestor._interpret_response\u001b[0;34m(self, result, stream)\u001b[0m\n\u001b[1;32m    611\u001b[0m     \u001b[38;5;28;01mreturn\u001b[39;00m (\n\u001b[1;32m    612\u001b[0m         \u001b[38;5;28mself\u001b[39m\u001b[38;5;241m.\u001b[39m_interpret_response_line(\n\u001b[1;32m    613\u001b[0m             line, result\u001b[38;5;241m.\u001b[39mstatus_code, result\u001b[38;5;241m.\u001b[39mheaders, stream\u001b[38;5;241m=\u001b[39m\u001b[38;5;28;01mTrue\u001b[39;00m\n\u001b[1;32m    614\u001b[0m         )\n\u001b[1;32m    615\u001b[0m         \u001b[38;5;28;01mfor\u001b[39;00m line \u001b[38;5;129;01min\u001b[39;00m parse_stream(result\u001b[38;5;241m.\u001b[39miter_lines())\n\u001b[1;32m    616\u001b[0m     ), \u001b[38;5;28;01mTrue\u001b[39;00m\n\u001b[1;32m    617\u001b[0m \u001b[38;5;28;01melse\u001b[39;00m:\n\u001b[1;32m    618\u001b[0m     \u001b[38;5;28;01mreturn\u001b[39;00m (\n\u001b[0;32m--> 619\u001b[0m         \u001b[38;5;28;43mself\u001b[39;49m\u001b[38;5;241;43m.\u001b[39;49m\u001b[43m_interpret_response_line\u001b[49m\u001b[43m(\u001b[49m\n\u001b[1;32m    620\u001b[0m \u001b[43m            \u001b[49m\u001b[43mresult\u001b[49m\u001b[38;5;241;43m.\u001b[39;49m\u001b[43mcontent\u001b[49m\u001b[38;5;241;43m.\u001b[39;49m\u001b[43mdecode\u001b[49m\u001b[43m(\u001b[49m\u001b[38;5;124;43m\"\u001b[39;49m\u001b[38;5;124;43mutf-8\u001b[39;49m\u001b[38;5;124;43m\"\u001b[39;49m\u001b[43m)\u001b[49m\u001b[43m,\u001b[49m\n\u001b[1;32m    621\u001b[0m \u001b[43m            \u001b[49m\u001b[43mresult\u001b[49m\u001b[38;5;241;43m.\u001b[39;49m\u001b[43mstatus_code\u001b[49m\u001b[43m,\u001b[49m\n\u001b[1;32m    622\u001b[0m \u001b[43m            \u001b[49m\u001b[43mresult\u001b[49m\u001b[38;5;241;43m.\u001b[39;49m\u001b[43mheaders\u001b[49m\u001b[43m,\u001b[49m\n\u001b[1;32m    623\u001b[0m \u001b[43m            \u001b[49m\u001b[43mstream\u001b[49m\u001b[38;5;241;43m=\u001b[39;49m\u001b[38;5;28;43;01mFalse\u001b[39;49;00m\u001b[43m,\u001b[49m\n\u001b[1;32m    624\u001b[0m \u001b[43m        \u001b[49m\u001b[43m)\u001b[49m,\n\u001b[1;32m    625\u001b[0m         \u001b[38;5;28;01mFalse\u001b[39;00m,\n\u001b[1;32m    626\u001b[0m     )\n",
      "File \u001b[0;32m/opt/homebrew/anaconda3/lib/python3.10/site-packages/openai/api_requestor.py:682\u001b[0m, in \u001b[0;36mAPIRequestor._interpret_response_line\u001b[0;34m(self, rbody, rcode, rheaders, stream)\u001b[0m\n\u001b[1;32m    680\u001b[0m stream_error \u001b[38;5;241m=\u001b[39m stream \u001b[38;5;129;01mand\u001b[39;00m \u001b[38;5;124m\"\u001b[39m\u001b[38;5;124merror\u001b[39m\u001b[38;5;124m\"\u001b[39m \u001b[38;5;129;01min\u001b[39;00m resp\u001b[38;5;241m.\u001b[39mdata\n\u001b[1;32m    681\u001b[0m \u001b[38;5;28;01mif\u001b[39;00m stream_error \u001b[38;5;129;01mor\u001b[39;00m \u001b[38;5;129;01mnot\u001b[39;00m \u001b[38;5;241m200\u001b[39m \u001b[38;5;241m<\u001b[39m\u001b[38;5;241m=\u001b[39m rcode \u001b[38;5;241m<\u001b[39m \u001b[38;5;241m300\u001b[39m:\n\u001b[0;32m--> 682\u001b[0m     \u001b[38;5;28;01mraise\u001b[39;00m \u001b[38;5;28mself\u001b[39m\u001b[38;5;241m.\u001b[39mhandle_error_response(\n\u001b[1;32m    683\u001b[0m         rbody, rcode, resp\u001b[38;5;241m.\u001b[39mdata, rheaders, stream_error\u001b[38;5;241m=\u001b[39mstream_error\n\u001b[1;32m    684\u001b[0m     )\n\u001b[1;32m    685\u001b[0m \u001b[38;5;28;01mreturn\u001b[39;00m resp\n",
      "\u001b[0;31mRateLimitError\u001b[0m: That model is currently overloaded with other requests. You can retry your request, or contact us through our help center at help.openai.com if the error persists. (Please include the request ID adab90942be60454ddbce2d38e0c7ce9 in your message.)"
     ]
    }
   ],
   "source": [
    "text_summary = []\n",
    "\n",
    "for row in df.iterrows():\n",
    "    remarks = row[1]['REMARKS_ALL']\n",
    "    summed = summarize(remarks)\n",
    "    text_summary.append(summed)"
   ]
  },
  {
   "cell_type": "code",
   "execution_count": null,
   "id": "61fab7bb-87b9-4bfb-8982-d5aae3ba3276",
   "metadata": {},
   "outputs": [],
   "source": [
    "print(text_summary[0])"
   ]
  }
 ],
 "metadata": {
  "kernelspec": {
   "display_name": "Python 3 (ipykernel)",
   "language": "python",
   "name": "python3"
  },
  "language_info": {
   "codemirror_mode": {
    "name": "ipython",
    "version": 3
   },
   "file_extension": ".py",
   "mimetype": "text/x-python",
   "name": "python",
   "nbconvert_exporter": "python",
   "pygments_lexer": "ipython3",
   "version": "3.11.5"
  }
 },
 "nbformat": 4,
 "nbformat_minor": 5
}
