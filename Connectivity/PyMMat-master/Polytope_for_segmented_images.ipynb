{
 "cells": [
  {
   "cell_type": "markdown",
   "metadata": {},
   "source": [
    "# Image processing for material property estimation\n",
    "\n",
    "### Compaction experiment with CT images\n",
    "\n",
    "This notebook contains the exact same steps as in `materials_testing_notebook.py`, with the following differences:\n",
    "* the content only goes up to the point of processing input images - in this case, **grayscale** images - into a two-phase (binary) material\n",
    "* here, we import the `Microstructure` class and methods from the `uumatsci_utils` library (included with this file)\n",
    "* some cells have been completely deleted - they were for stand-alone testing and irrelevant in the context of the example"
   ]
  },
  {
   "cell_type": "code",
   "execution_count": 12,
   "metadata": {
    "ExecuteTime": {
     "end_time": "2020-10-26T16:03:59.467177Z",
     "start_time": "2020-10-26T16:03:59.409357Z"
    }
   },
   "outputs": [],
   "source": [
    "# import the uumatsci_utils.py library\n",
    "import uumatsci_utils as uumat\n",
    "import numpy as np\n",
    "import os"
   ]
  },
  {
   "cell_type": "markdown",
   "metadata": {},
   "source": [
    "#### Step 1: loading image files\n",
    "\n",
    "Here, we load the grayscale image files containing the raw CT images - each image in this case corresponds to a different stress state over the compaction experiment. "
   ]
  },
  {
   "cell_type": "code",
   "execution_count": 2,
   "metadata": {},
   "outputs": [
    {
     "name": "stdout",
     "output_type": "stream",
     "text": [
      "(2639, 1005)\n"
     ]
    }
   ],
   "source": [
    "import matplotlib\n",
    "matplotlib.use('TkAgg')\n",
    "# matplotlib.use('Qt5Agg')\n",
    "# matplotlib.use('MACOSX')\n",
    "import matplotlib.pyplot as plt\n",
    "\n",
    "# %% set paths\n",
    "path = 'D:/SerpRateAI/Results'\n",
    "\n",
    "image_number='CS_5057_5_B_9_3_1'\n",
    "image_file = path + '/' + image_number +'/' + image_number +'_Simple Segmentation_3.tif'\n",
    "\n",
    "\n",
    "# %% alternative image read method\n",
    "img_ct = plt.imread(image_file)\n",
    "print(img_ct.shape)\n",
    "\n",
    "plt.figure()\n",
    "plt.imshow(img_ct, cmap=plt.cm.gray)\n",
    "plt.show()"
   ]
  },
  {
   "cell_type": "markdown",
   "metadata": {},
   "source": [
    "#### Step 2: convert images into microstructure\n",
    "\n",
    "In the `uumatsci_utils.py` library, we define a class called `Microstructure` - that object contains:\n",
    "* the actual microstructure information: both the binary two-phase structure, and the final processed image from which said microstructure is estimated\n",
    "* methods - i.e., class-based functions - to calculate microstructure descriptors\n",
    "\n",
    "For now, let's focus on one method of the `Microstructure` class - called `twoDCTimage2structure`: this is designed to take a 2D grayscale image (such as from a CT scanner) into a two-phase microstructure, that later will be used to estimate microstructure descriptors."
   ]
  },
  {
   "cell_type": "code",
   "execution_count": 3,
   "metadata": {},
   "outputs": [
    {
     "name": "stdout",
     "output_type": "stream",
     "text": [
      "(741, 725)\n",
      "19 720\n"
     ]
    },
    {
     "name": "stderr",
     "output_type": "stream",
     "text": [
      "D:\\SerpRateAI\\Connectivity\\PyMMat-master\\uumatsci_utils.py:392: FutureWarning: `multichannel` is a deprecated argument name for `denoise_tv_chambolle`. It will be removed in version 1.0. Please use `channel_axis` instead.\n",
      "  img_dnoise = denoise_tv_chambolle(\n"
     ]
    },
    {
     "name": "stdout",
     "output_type": "stream",
     "text": [
      "<class 'uumatsci_utils.Microstructure'>\n",
      "(701, 701)\n",
      "Number of inclusions: 67605\n",
      "Volume fraction: 0.13757603260880624\n",
      "(2, 67605)\n",
      "0  79\n",
      "0  80\n",
      "0  81\n",
      "0  82\n",
      "0  83\n",
      "0  84\n",
      "0  85\n",
      "0  86\n",
      "0  87\n",
      "0  106\n"
     ]
    }
   ],
   "source": [
    "### Example image 1\n",
    "\n",
    "y_start=1000\n",
    "x_start=300\n",
    "square_size=701\n",
    "\n",
    "# this 'par' is a dictionary with the arguments passed to the image-to-structure method\n",
    "par={'name':image_number,'begx': y_start, 'begy': x_start, 'nsamp': square_size, 'edge_buffer': 20,\n",
    "    'equalisation': True, 'equal_method': 'adaptive', 'stretch_percentile': 2,\n",
    "    'clip_limit': 0.03, 'tvdnoise': True, 'tv_weight': 0.15, 'tv_eps': 2e-04,\n",
    "    'median_filter': False, 'median_filter_length': 3,\n",
    "    'thresholding_method': 'otsu', 'thresholding_weight': 0.85, 'nbins': 256,\n",
    "    'make_figs': True, 'fig_res': 400, 'fig_path':'D:/SerpRateAI/'}\n",
    "\n",
    "\n",
    "# test function\n",
    "imct_microstructure = uumat.twoDCTimage2structure(img_ct, par)\n",
    "print(type(imct_microstructure))\n",
    "imm = imct_microstructure.sourceimage\n",
    "print(imm.shape)\n",
    "#img_adaptive = exposure.equalize_adapthist(imm, clip_limit=par['clip_limit'])\n",
    "\n",
    "# test volume fraction calculation\n",
    "imct_microstructure.volumefraction()\n",
    "imct_nincl = imct_microstructure.ninclusion\n",
    "imct_phi = imct_microstructure.volfracvalue\n",
    "print(\"Number of inclusions: %s\" % imct_nincl)\n",
    "print(\"Volume fraction: %s\" % imct_phi)\n",
    "\n",
    "# test listing inclusion indeces\n",
    "imct_microstructure.list_inclusion_indeces()\n",
    "imct_inclist = imct_microstructure.inclusion_index_list\n",
    "print(imct_inclist.shape)\n",
    "for i in range(10):\n",
    "    print(\"%s  %s\" % (imct_inclist[0, i], imct_inclist[1, i]))\n",
    "\n",
    "#plt.figure()\n",
    "#plt.imshow(imct_microstructure.structure, cmap=plt.cm.gray)"
   ]
  },
  {
   "cell_type": "markdown",
   "metadata": {},
   "source": [
    "#### Step 3: SMD calculations\n",
    "\n",
    "In the `uumatsci_utils.py` library, there is a method called `estimate_npolytope_functions` - which:\n",
    "* runs the **C++** executable `Sample_Pn_UU`: this calculates S2 and Polytope functions\n",
    "* manipulates the necessary I/O files in a way that attempts to protects subsenquent calls of this method not to get mixed up with input/information from previous calls\n",
    "\n",
    "**Important:** the C++ code must be compiled separately, and the parameters `file_path`, `cpp_path` and `runtime_path` **must be set carefully** to ensure result files are properly documented nad kept separately.\n",
    "\n",
    "Below are the initial results using the *Slochteren compaction experiment data from Suzanne Hangx*. Plese note these results are unpublished and therefore **confidential**."
   ]
  },
  {
   "cell_type": "code",
   "execution_count": 4,
   "metadata": {},
   "outputs": [
    {
     "name": "stdout",
     "output_type": "stream",
     "text": [
      "Writing CS_5057_5_B_9_3_1_Mconfig.txt file in: D:/SerpRateAI/Connectivity/PyMMat-master/runtime/output/\n",
      "Writing Mconfig.txt file for sample CS_5057_5_B_9_3_1 in current directory\n",
      "(250, 2)\n",
      "[[0.       0.137864]\n",
      " [1.       0.107661]\n",
      " [2.       0.086539]\n",
      " [3.       0.06952 ]\n",
      " [4.       0.056163]\n",
      " [5.       0.045773]\n",
      " [6.       0.038484]\n",
      " [7.       0.033601]\n",
      " [8.       0.030653]\n",
      " [9.       0.028649]]\n"
     ]
    }
   ],
   "source": [
    "# Set up to run C++ polytope codes\n",
    "# test writing Mconfig files\n",
    "if os.path.isfile('D:/SerpRateAI/Connectivity/PyMMat-master/runtime/Mconfig.txt'):\n",
    "    os.remove('D:/SerpRateAI/Connectivity/PyMMat-master/runtime/Mconfig.txt')\n",
    "\n",
    "if os.path.isfile('D:/SerpRateAI/Connectivity/PyMMat-master/runtime/output/' + image_number +'_Mconfig.txt'):\n",
    "    os.remove('D:/SerpRateAI/Connectivity/PyMMat-master/runtime/output/' + image_number +'_Mconfig.txt')\n",
    "\n",
    "\n",
    "cpathPn = 'D:/SerpRateAI/Connectivity/PyMMat-master/Cpp_source/Polytope/'\n",
    "runtimePn = 'D:/SerpRateAI/Connectivity/PyMMat-master/runtime/'\n",
    "outputPn = 'D:/SerpRateAI/Connectivity/PyMMat-master/runtime/output/'\n",
    "\n",
    "# test polytope estimations\n",
    "imct_microstructure.estimate_npolytope_functions(file_path=outputPn, cppcode_path=cpathPn, runtime_path=runtimePn, verbose=False)\n",
    "imct_PnS2 = imct_microstructure.polytope_S2\n",
    "print(imct_PnS2.shape)\n",
    "print(imct_PnS2[0:10,:])\n",
    "\n"
   ]
  },
  {
   "cell_type": "code",
   "execution_count": 14,
   "metadata": {},
   "outputs": [
    {
     "name": "stdout",
     "output_type": "stream",
     "text": [
      "D:\\SerpRateAI\\Connectivity\\PyMMat-master\n"
     ]
    }
   ],
   "source": [
    "# plot Pn for the sample\n",
    "import os\n",
    "\n",
    "print(os.getcwd())\n",
    "rows = 1\n",
    "cols = 1\n",
    "figsize = (16, 6)\n",
    "fig, axes = plt.subplots(rows, cols, sharey=True, figsize=figsize, constrained_layout=True)\n",
    "\n",
    "axes.set_title('Pn: %s' % imct_microstructure.name)\n",
    "axes.set_ylabel('Pn')\n",
    "axes.set_xlabel('r (pixels)')\n",
    "axes.plot(imct_PnS2[:,0], imct_PnS2[:,1], 'o', ls='-', ms=4, markevery=None, label='S2')\n",
    "axes.plot(imct_microstructure.polytope_L[:,0], imct_microstructure.polytope_L[:,1], 'o', ls='-', ms=4, markevery=None, label='L')\n",
    "axes.plot(imct_microstructure.polytope_P3V[::2,0], imct_microstructure.polytope_P3V[::2,1], 'o', ls='-', ms=4, markevery=None, label='P3V')\n",
    "axes.plot(imct_microstructure.polytope_P3H[::2,0], imct_microstructure.polytope_P3H[::2,1], 'o', ls='-', ms=4, markevery=None, label='P3H')\n",
    "axes.plot(imct_microstructure.polytope_P4[:,0], imct_microstructure.polytope_P4[:,1], 'o', ls='-', ms=4, markevery=None, label='P4')\n",
    "axes.plot(imct_microstructure.polytope_P6V[::2,0], imct_microstructure.polytope_P6V[::2,1], 'o', ls='-', ms=4, markevery=None, label='P6V')\n",
    "\n",
    "axes.grid(True)\n",
    "axes.legend()\n",
    "\n",
    "plt.savefig('D:/SerpRateAI/Connectivity/Polytope_results/'+ image_number + '_test.tif', dpi=400)\n",
    "\n"
   ]
  },
  {
   "cell_type": "code",
   "execution_count": 16,
   "metadata": {},
   "outputs": [],
   "source": [
    "## Calculate f and fn functions\n",
    "imct_microstructure.calculate_scaled_autocovariance()\n",
    "imct_microstructure.calculate_polytope_fn()"
   ]
  },
  {
   "cell_type": "code",
   "execution_count": 17,
   "metadata": {},
   "outputs": [
    {
     "name": "stdout",
     "output_type": "stream",
     "text": [
      "D:\\SerpRateAI\\Connectivity\\PyMMat-master\n"
     ]
    }
   ],
   "source": [
    "# plot Pn\n",
    "print(os.getcwd())\n",
    "rows = 1\n",
    "cols = 1\n",
    "figsize = (16, 10)\n",
    "fig, axes = plt.subplots(rows, cols, sharey=True, figsize=figsize, constrained_layout=True)\n",
    "\n",
    "\n",
    "axes.set_title('Pn: %s' % imct_microstructure.name)\n",
    "axes.set_ylabel('Pn')\n",
    "axes.set_xlabel('r (pixels)')\n",
    "axes.plot(imct_PnS2[0:50,0], imct_PnS2[0:50,1], 'o', ls='-', ms=4, markevery=None, label='S2')\n",
    "axes.plot(imct_microstructure.polytope_L[0:50,0], imct_microstructure.polytope_L[0:50,1], 'o', ls='-', ms=4, markevery=None, label='L')\n",
    "axes.plot(imct_microstructure.polytope_P3V[0:50:2,0], imct_microstructure.polytope_P3V[0:50:2,1], 'o', ls='-', ms=4, markevery=None, label='P3V')\n",
    "axes.plot(imct_microstructure.polytope_P3H[0:50:2,0], imct_microstructure.polytope_P3H[0:50:2,1], 'o', ls='-', ms=4, markevery=None, label='P3H')\n",
    "axes.plot(imct_microstructure.polytope_P4[0:50,0], imct_microstructure.polytope_P4[0:50,1], 'o', ls='-', ms=4, markevery=None, label='P4')\n",
    "axes.plot(imct_microstructure.polytope_P6V[0:50:2,0], imct_microstructure.polytope_P6V[0:50:2,1], 'o', ls='-', ms=4, markevery=None, label='P6V')\n",
    "\n",
    "axes.grid(True)\n",
    "axes.legend()\n",
    "\n",
    "\n",
    "plt.savefig('D:/SerpRateAI/Connectivity/Polytope_results/Pn_r50_' +image_number +'.tif', dpi=400)"
   ]
  },
  {
   "cell_type": "code",
   "execution_count": 18,
   "metadata": {},
   "outputs": [
    {
     "name": "stdout",
     "output_type": "stream",
     "text": [
      "D:\\SerpRateAI\\Connectivity\\PyMMat-master\n"
     ]
    }
   ],
   "source": [
    "# plot Fn\n",
    "print(os.getcwd())\n",
    "rows = 1\n",
    "cols = 1\n",
    "figsize = (16, 10)\n",
    "fig, axes = plt.subplots(rows, cols, sharey=True, figsize=figsize, constrained_layout=True)\n",
    "\n",
    "\n",
    "axes.set_title('Fn: %s' % imct_microstructure.name)\n",
    "axes.set_ylabel('$f_n$')\n",
    "axes.set_xlabel('r (pixels)')\n",
    "axes.plot(imct_microstructure.scal_autocov[0:50,0], imct_microstructure.scal_autocov[0:50,1], 'o', ls='-', ms=4, markevery=None, label='S2')\n",
    "axes.plot(imct_microstructure.polyfn_P3V[0:50:2,0], imct_microstructure.polyfn_P3V[0:50:2,1], 'o', ls='-', ms=4, markevery=None, label='P3V')\n",
    "axes.plot(imct_microstructure.polyfn_P3H[0:50:2,0], imct_microstructure.polyfn_P3H[0:50:2,1], 'o', ls='-', ms=4, markevery=None, label='P3H')\n",
    "axes.plot(imct_microstructure.polyfn_P4[0:50,0], imct_microstructure.polyfn_P4[0:50,1], 'o', ls='-', ms=4, markevery=None, label='P4')\n",
    "axes.plot(imct_microstructure.polyfn_P6V[0:50:2,0], imct_microstructure.polyfn_P6V[0:50:2,1], 'o', ls='-', ms=4, markevery=None, label='P6V')\n",
    "\n",
    "axes.grid(True)\n",
    "axes.legend()\n",
    "\n",
    "\n",
    "plt.savefig('D:/SerpRateAI/Connectivity/Polytope_results/Fn_r50_' +image_number +'.tif', dpi=400)\n",
    "\n"
   ]
  },
  {
   "cell_type": "code",
   "execution_count": 19,
   "metadata": {
    "pycharm": {
     "name": "#%%\n"
    }
   },
   "outputs": [],
   "source": [
    "from matplotlib.collections import PatchCollection\n",
    "from matplotlib.patches import Rectangle\n",
    "import matplotlib.patches as patches\n",
    "from skimage import exposure\n",
    "\n",
    "figsize = (16, 8)\n",
    "fig = plt.figure(figsize=figsize, constrained_layout=True)\n",
    "gs = fig.add_gridspec(5, 6)\n",
    "\n",
    "Rects = []\n",
    "Rect1 = Rectangle((100, 901), 501, 501, fill=False, edgecolor='Green')\n",
    "Rects.append(Rect1)\n",
    "pc = PatchCollection(Rects)\n",
    "\n",
    "f_ax1 = fig.add_subplot(gs[1:5, 1])\n",
    "f_ax1.set_title('Segmented ' + image_number)\n",
    "f_ax1.set_ylabel('x (pixels)')\n",
    "f_ax1.set_xlabel('y (pixels)')\n",
    "f_ax1.imshow(exposure.equalize_adapthist(img_ct, clip_limit=par['clip_limit']), cmap=plt.cm.gray)\n",
    "f_ax1.plot([x_start,x_start,x_start+square_size,x_start+square_size,x_start],[y_start,y_start+square_size,y_start+square_size,y_start,y_start],'b',lw=3)\n",
    "\n",
    "\n",
    "f_ax4 = fig.add_subplot(gs[1:3, 3:5])\n",
    "f_ax4.set_title('Polytope Pn')\n",
    "f_ax4.set_ylabel('Pn')\n",
    "f_ax4.set_xlabel('r (pixels)')\n",
    "f_ax4.plot(imct_PnS2[0:50,0], imct_PnS2[0:50,1], 'o', ls='-', ms=4, markevery=None, label='S2')\n",
    "f_ax4.plot(imct_microstructure.polytope_P3V[0:50:2,0], imct_microstructure.polytope_P3V[0:50:2,1], 'o', ls='-', ms=4, markevery=None, label='P3V')\n",
    "f_ax4.plot(imct_microstructure.polytope_P3H[0:50:2,0], imct_microstructure.polytope_P3H[0:50:2,1], 'o', ls='-', ms=4, markevery=None, label='P3H')\n",
    "f_ax4.plot(imct_microstructure.polytope_P4[0:50,0], imct_microstructure.polytope_P4[0:50,1], 'o', ls='-', ms=4, markevery=None, label='P4')\n",
    "f_ax4.plot(imct_microstructure.polytope_P6V[0:50:2,0], imct_microstructure.polytope_P6V[0:50:2,1], 'o', ls='-', ms=4, markevery=None, label='P6V')\n",
    "f_ax4.plot(imct_microstructure.polytope_L[0:50,0], imct_microstructure.polytope_L[0:50,1], 'o', ls='-', ms=4, markevery=None, label='L')\n",
    "f_ax4.set_ylim([-0.025, 0.3])\n",
    "f_ax4.grid(True)\n",
    "f_ax4.legend()\n",
    "\n",
    "f_ax5 = fig.add_subplot(gs[3:5, 3:5])\n",
    "f_ax5.set_title('Polytope Fn')\n",
    "f_ax5.set_ylabel('$f_n$')\n",
    "f_ax5.set_xlabel('r (pixels)')\n",
    "f_ax5.plot(imct_microstructure.scal_autocov[0:50,0], imct_microstructure.scal_autocov[0:50,1], 'o', ls='-', ms=4, markevery=None, label='S2')\n",
    "f_ax5.plot(imct_microstructure.polyfn_P3V[0:50:2,0], imct_microstructure.polyfn_P3V[0:50:2,1], 'o', ls='-', ms=4, markevery=None, label='P3V')\n",
    "f_ax5.plot(imct_microstructure.polyfn_P3H[0:50:2,0], imct_microstructure.polyfn_P3H[0:50:2,1], 'o', ls='-', ms=4, markevery=None, label='P3H')\n",
    "f_ax5.plot(imct_microstructure.polyfn_P4[0:50,0], imct_microstructure.polyfn_P4[0:50,1], 'o', ls='-', ms=4, markevery=None, label='P4')\n",
    "f_ax5.plot(imct_microstructure.polyfn_P6V[0:50:2,0], imct_microstructure.polyfn_P6V[0:50:2,1], 'o', ls='-', ms=4, markevery=None, label='P6V')\n",
    "f_ax5.set_ylim([-0.025, 1.1])\n",
    "f_ax5.grid(True)\n",
    "f_ax5.legend()\n",
    "\n",
    "plt.savefig('D:/SerpRateAI/Connectivity/Polytope_results/Visualize_results_' + image_number + '_400dpi.tif', dpi=400)\n",
    "plt.savefig('D:/SerpRateAI/Connectivity/Polytope_results/Visualize_results_' + image_number + '_200dpi.tif', dpi=200)"
   ]
  }
 ],
 "metadata": {
  "kernelspec": {
   "display_name": "Python 3 (ipykernel)",
   "language": "python",
   "name": "python3"
  },
  "language_info": {
   "codemirror_mode": {
    "name": "ipython",
    "version": 3
   },
   "file_extension": ".py",
   "mimetype": "text/x-python",
   "name": "python",
   "nbconvert_exporter": "python",
   "pygments_lexer": "ipython3",
   "version": "3.10.0"
  },
  "toc": {
   "base_numbering": 1,
   "nav_menu": {},
   "number_sections": true,
   "sideBar": true,
   "skip_h1_title": false,
   "title_cell": "Table of Contents",
   "title_sidebar": "Contents",
   "toc_cell": false,
   "toc_position": {},
   "toc_section_display": true,
   "toc_window_display": false
  }
 },
 "nbformat": 4,
 "nbformat_minor": 2
}