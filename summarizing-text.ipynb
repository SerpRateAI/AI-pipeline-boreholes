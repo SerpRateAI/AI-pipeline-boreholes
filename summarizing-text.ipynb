{
 "cells": [
  {
   "cell_type": "code",
   "execution_count": 1,
   "id": "9a0578d4-3abd-4817-b94c-1ae771dd7c60",
   "metadata": {},
   "outputs": [
    {
     "name": "stdout",
     "output_type": "stream",
     "text": [
      "Requirement already satisfied: nltk in /opt/homebrew/anaconda3/lib/python3.10/site-packages (3.7)\n",
      "Requirement already satisfied: regex>=2021.8.3 in /opt/homebrew/anaconda3/lib/python3.10/site-packages (from nltk) (2022.7.9)\n",
      "Requirement already satisfied: tqdm in /opt/homebrew/anaconda3/lib/python3.10/site-packages (from nltk) (4.64.1)\n",
      "Requirement already satisfied: joblib in /opt/homebrew/anaconda3/lib/python3.10/site-packages (from nltk) (1.1.1)\n",
      "Requirement already satisfied: click in /opt/homebrew/anaconda3/lib/python3.10/site-packages (from nltk) (8.1.3)\n"
     ]
    }
   ],
   "source": [
    "!pip install nltk"
   ]
  },
  {
   "cell_type": "code",
   "execution_count": 2,
   "id": "9b00573f-0e44-426d-8191-a1dd8c852f9f",
   "metadata": {},
   "outputs": [],
   "source": [
    "%matplotlib inline\n",
    "import pandas as pd\n",
    "import numpy as np\n",
    "import nltk\n",
    "from nltk.collocations import *\n",
    "from nltk.corpus import stopwords\n",
    "from nltk.stem import WordNetLemmatizer\n",
    "from nltk import FreqDist\n",
    "\n",
    "stop_words = set(stopwords.words(\"english\"))\n",
    "lemmatizer = WordNetLemmatizer()"
   ]
  },
  {
   "cell_type": "code",
   "execution_count": 3,
   "id": "1dfb734c-8afa-4132-ab62-8584f4569242",
   "metadata": {},
   "outputs": [],
   "source": [
    "df = pd.read_excel('Dataset_BA1B.xlsx')"
   ]
  },
  {
   "cell_type": "code",
   "execution_count": 4,
   "id": "970e2a6d-5985-422f-8a67-ef2d471b319e",
   "metadata": {},
   "outputs": [
    {
     "data": {
      "text/plain": [
       "Index(['CORE', 'SECTION', 'SECTION_UNIT', '% of fractures', 'IMAGES',\n",
       "       'SEGMENTATION', 'TOP_DEPTH', 'UNIT_DESC4', 'VEIN_INTENSITY',\n",
       "       'ALTERATION', 'REMARKS1', 'REMARKS2', 'REMARKS4', 'REMARKS5',\n",
       "       'UNIT_DESC5', 'UNIT_DESC3', 'UNIT_TYPE_Dunite', 'UNIT_TYPE_Fault rock',\n",
       "       'UNIT_TYPE_Gabbro', 'UNIT_TYPE_Harzburgite', 'UNIT_TYPE_Metagabbro',\n",
       "       'UNIT_TYPE_Other', 'UNIT_CLASS_OPHIO', 'UNIT_CLASS_UND',\n",
       "       'TEXTURES_Brecciated', 'TEXTURES_Sheared',\n",
       "       'GRAINSIZE_Cryptocrystalline', 'GRAINSIZE_Fine grained',\n",
       "       'GRAINSIZE_Medium grained', 'GRAINSIZE_Microcrystalline',\n",
       "       'GRAINSIZE2_Coarse grained', 'GRAINSIZE2_Cryptocrystalline',\n",
       "       'GRAINSIZE2_Fine grained', 'GRAINSIZE2_Medium grained',\n",
       "       'GRAINSIZE2_Pegmatitic'],\n",
       "      dtype='object')"
      ]
     },
     "execution_count": 4,
     "metadata": {},
     "output_type": "execute_result"
    }
   ],
   "source": [
    "df.columns"
   ]
  },
  {
   "cell_type": "code",
   "execution_count": 5,
   "id": "36e42bd7-d425-41f0-b1b2-3384b33aaa24",
   "metadata": {},
   "outputs": [],
   "source": [
    "df[['REMARKS1', 'REMARKS2', 'REMARKS4', 'REMARKS5',]] = df[['REMARKS1', 'REMARKS2', 'REMARKS4', 'REMARKS5',]].fillna('')\n",
    "df[['REMARKS1', 'REMARKS2', 'REMARKS4', 'REMARKS5',]] = df[['REMARKS1', 'REMARKS2', 'REMARKS4', 'REMARKS5',]].replace('none', '')"
   ]
  },
  {
   "cell_type": "code",
   "execution_count": 6,
   "id": "49952201-8892-4426-a2fa-77baf324c561",
   "metadata": {},
   "outputs": [],
   "source": [
    "df['REMARKS_ALL'] = (df['REMARKS1'] + ' ' + df['REMARKS2'] + ' ' + df['REMARKS4'] + ' ' + df['REMARKS5'])"
   ]
  },
  {
   "cell_type": "code",
   "execution_count": 7,
   "id": "d25f1af0-108a-41bd-bfc8-840f65fa430e",
   "metadata": {},
   "outputs": [
    {
     "data": {
      "text/plain": [
       "0      microcrystalline carbonate visible on vein sur...\n",
       "1      Irregular network of black serp veins (2-5 mm ...\n",
       "2      Serp mesh texture cross-cut by later, < 0.2 mm...\n",
       "3        MICROBIO SAMPLE. Serp dunite with a microgab...\n",
       "4      mesh texture of black veins cross-cut by 0.5 m...\n",
       "                             ...                        \n",
       "650      Black serp hzb finishing by a px-poor zone b...\n",
       "651      Black serp hzb starting with px-poor zone as...\n",
       "652      Black serp hzb with very altered thin pxnite...\n",
       "653      Black serp dunite with a offset microgabbroi...\n",
       "654      Very altered microgabbro with white veins cr...\n",
       "Name: REMARKS_ALL, Length: 655, dtype: object"
      ]
     },
     "execution_count": 7,
     "metadata": {},
     "output_type": "execute_result"
    }
   ],
   "source": [
    "df['REMARKS_ALL']"
   ]
  },
  {
   "cell_type": "code",
   "execution_count": 8,
   "id": "dc596b12-4739-4bb0-adef-3729222c53a3",
   "metadata": {},
   "outputs": [],
   "source": [
    "bigram_measures = nltk.collocations.BigramAssocMeasures()"
   ]
  },
  {
   "cell_type": "code",
   "execution_count": 9,
   "id": "5c01df31-addc-4cbb-af2a-2ef18b117ce7",
   "metadata": {},
   "outputs": [],
   "source": [
    "trigram_measures = nltk.collocations.TrigramAssocMeasures()"
   ]
  },
  {
   "cell_type": "code",
   "execution_count": 10,
   "id": "5ab2fdb4-9b5e-440a-b7f5-7688f6006550",
   "metadata": {},
   "outputs": [],
   "source": [
    "fourgram_measures = nltk.collocations.QuadgramAssocMeasures()"
   ]
  },
  {
   "cell_type": "code",
   "execution_count": 11,
   "id": "a1607af7-5675-490a-a962-c56ac2aebf32",
   "metadata": {},
   "outputs": [],
   "source": [
    "onestr = ','.join(df.REMARKS_ALL.values).lower()\n",
    "\n",
    "words = nltk.tokenize.word_tokenize(onestr)\n",
    "\n",
    "words = [word for word in words if word.casefold() not in stop_words]\n",
    "words = [lemmatizer.lemmatize(word) for word in words]"
   ]
  },
  {
   "cell_type": "code",
   "execution_count": 12,
   "id": "6318ae4a-4b67-4658-a256-e2715bee5164",
   "metadata": {},
   "outputs": [],
   "source": [
    "finder = BigramCollocationFinder.from_words(words)"
   ]
  },
  {
   "cell_type": "code",
   "execution_count": 13,
   "id": "0647f16a-cd8c-44ca-bcc6-7b0f527c7eb2",
   "metadata": {},
   "outputs": [],
   "source": [
    "frequency_distribution = FreqDist(words)"
   ]
  },
  {
   "cell_type": "code",
   "execution_count": 14,
   "id": "8c52b835-b547-4935-8068-f210a48abffe",
   "metadata": {},
   "outputs": [],
   "source": [
    "finder.apply_freq_filter(10)"
   ]
  },
  {
   "cell_type": "code",
   "execution_count": 15,
   "id": "9ccb9fcd-2421-41b0-86b3-2c1411734896",
   "metadata": {},
   "outputs": [
    {
     "data": {
      "text/plain": [
       "[('smell', 'sulphur'),\n",
       " ('shape', 'preferred'),\n",
       " ('preferred', 'orientation'),\n",
       " ('euhedral', 'calcite'),\n",
       " ('high', 'density'),\n",
       " ('appearance', 'masked'),\n",
       " ('microbio', 'sample'),\n",
       " ('crystal', 'shape'),\n",
       " ('strong', 'crystal'),\n",
       " ('mesh', 'texture'),\n",
       " ('angular', 'clast'),\n",
       " ('cross', 'cut'),\n",
       " ('coalescence', 'multiple'),\n",
       " ('forming', 'coalescence'),\n",
       " ('clay', 'mineral'),\n",
       " ('faint', 'lineation'),\n",
       " ('variable', 'thickness'),\n",
       " ('cutting', 'sample'),\n",
       " ('broken', 'surface'),\n",
       " ('masked', 'striation'),\n",
       " ('striation', 'caused'),\n",
       " ('medium', 'grained'),\n",
       " ('deg', 'intersection'),\n",
       " ('sigmoidal', 'veinlets'),\n",
       " ('lineation', 'slickensides'),\n",
       " ('variable', 'amount'),\n",
       " ('degree', 'dip'),\n",
       " ('core', 'barrel'),\n",
       " ('90', 'deg'),\n",
       " ('caused', 'core'),\n",
       " ('60', 'degree'),\n",
       " ('coarse', 'grain'),\n",
       " ('harzb', 'w/'),\n",
       " ('magmatic', 'intrusion'),\n",
       " ('open', 'crack'),\n",
       " ('amount', 'px'),\n",
       " ('coarse', 'grained'),\n",
       " ('alteration', 'halo'),\n",
       " ('highly', 'disrupted'),\n",
       " ('90', 'degree'),\n",
       " ('thin', 'pyroxenite'),\n",
       " ('massive', 'harzburgite'),\n",
       " ('albite', '?'),\n",
       " ('zeosite', '?'),\n",
       " ('w/waxy', 'blue'),\n",
       " ('throughout', 'section'),\n",
       " ('branching', '90'),\n",
       " ('multiple', 'veinlets'),\n",
       " ('minor', 'carb'),\n",
       " ('harzburgite', 'w/several'),\n",
       " ('open', 'fracture'),\n",
       " ('sheared', 'leucocratic'),\n",
       " ('section', 'strong'),\n",
       " ('rich', 'magnetite'),\n",
       " ('serpentinized', 'harzburgite'),\n",
       " ('sample', ':'),\n",
       " ('-', 'branching'),\n",
       " ('5', 'mm'),\n",
       " ('slickensides', 'open'),\n",
       " ('<', '1mm'),\n",
       " ('wehrlitic', 'zone'),\n",
       " ('rodingite', '?'),\n",
       " ('brown', 'px'),\n",
       " ('dunite', 'magnetite'),\n",
       " ('hydrothermalized', 'zone'),\n",
       " ('1', 'mm'),\n",
       " ('3', 'mm'),\n",
       " ('ca-si', '?'),\n",
       " ('px', 'rich'),\n",
       " ('dunitic', 'zone'),\n",
       " ('gabbroic', 'dyke'),\n",
       " ('w/', 'several'),\n",
       " ('bulk', 'rock'),\n",
       " ('variously', 'altered'),\n",
       " ('lineation', 'open'),\n",
       " ('wavy', 'waxy'),\n",
       " ('variably', 'altered'),\n",
       " ('2', 'mm'),\n",
       " ('highly', 'hydrothermalized'),\n",
       " ('<', '1cm'),\n",
       " ('plagio', 'altered'),\n",
       " ('red', 'px'),\n",
       " ('harzburgite', 'crosscut'),\n",
       " ('dunite', 'rich'),\n",
       " ('<', '1'),\n",
       " ('1mm', 'thick'),\n",
       " ('lower', 'gabbro'),\n",
       " ('blue', 'patch'),\n",
       " ('2cm', 'thick'),\n",
       " ('bulk', 'veins.'),\n",
       " ('3cm', 'thick'),\n",
       " ('serpentinized', 'dunite'),\n",
       " ('1cm', 'thick'),\n",
       " ('section', '-'),\n",
       " ('white', 'plagioclase'),\n",
       " ('completely', 'altered'),\n",
       " ('crosscutting', 'branching'),\n",
       " ('dark', 'green'),\n",
       " ('mm', 'thick'),\n",
       " ('white', 'pl')]"
      ]
     },
     "execution_count": 15,
     "metadata": {},
     "output_type": "execute_result"
    }
   ],
   "source": [
    "finder.nbest(fourgram_measures.pmi, 100)"
   ]
  },
  {
   "cell_type": "code",
   "execution_count": 16,
   "id": "1672f8d1-6fce-4c8c-ab14-dab8701d14f4",
   "metadata": {},
   "outputs": [],
   "source": [
    "# nltk.download('genesis')\n",
    "# nltk.corpus.genesis.words('english-web.txt')"
   ]
  },
  {
   "cell_type": "code",
   "execution_count": 17,
   "id": "a869a2f2-bac6-41c4-92e5-392a65631a6b",
   "metadata": {},
   "outputs": [],
   "source": [
    "# nltk.download('punkt')\n",
    "# nltk.tokenize.word_tokenize(','.join(df.REMARKS_ALL.values))"
   ]
  },
  {
   "cell_type": "code",
   "execution_count": 18,
   "id": "0d9a66c1-fe53-401a-9ca8-591d94a1a50c",
   "metadata": {},
   "outputs": [],
   "source": [
    "# nltk.download(\"stopwords\")"
   ]
  },
  {
   "cell_type": "code",
   "execution_count": 19,
   "id": "4f55925a-5cc6-4752-aad4-0220ab669eba",
   "metadata": {},
   "outputs": [],
   "source": [
    "# nltk.download('wordnet')"
   ]
  },
  {
   "cell_type": "code",
   "execution_count": 20,
   "id": "f388b4db-45d4-45da-999b-9e1ee7d77048",
   "metadata": {},
   "outputs": [],
   "source": [
    "# nltk.download('omw-1.4')"
   ]
  },
  {
   "cell_type": "code",
   "execution_count": null,
   "id": "a589ba62-659e-435e-bcbc-7aa08467d804",
   "metadata": {},
   "outputs": [],
   "source": []
  }
 ],
 "metadata": {
  "kernelspec": {
   "display_name": "Python 3 (ipykernel)",
   "language": "python",
   "name": "python3"
  },
  "language_info": {
   "codemirror_mode": {
    "name": "ipython",
    "version": 3
   },
   "file_extension": ".py",
   "mimetype": "text/x-python",
   "name": "python",
   "nbconvert_exporter": "python",
   "pygments_lexer": "ipython3",
   "version": "3.10.9"
  }
 },
 "nbformat": 4,
 "nbformat_minor": 5
}
